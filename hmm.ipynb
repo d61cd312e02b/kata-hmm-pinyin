{
 "cells": [
  {
   "cell_type": "code",
   "execution_count": 1,
   "id": "f4cbd3a5-b263-446e-8262-4bd2eaa2dfe1",
   "metadata": {},
   "outputs": [],
   "source": [
    "import numpy as np\n",
    "import functools\n",
    "\n",
    "\n",
    "def load_words_freq_pinyin(file_name):\n",
    "    init_words_freq = {}\n",
    "    emit_pinyin_freq = {}\n",
    "    transmission_freq = {}\n",
    "    with open(file_name, \"r\") as words:\n",
    "        for line in words:\n",
    "            fields = line.split()\n",
    "            freq = int(fields[0])\n",
    "            is_first = True\n",
    "            last_word = \"\"\n",
    "            for word_pinyin in fields[1:]:\n",
    "                word, pinyin = word_pinyin.split(\"|\")\n",
    "\n",
    "                word_emit_pinyin_freq = emit_pinyin_freq.get(word, {})\n",
    "                word_emit_pinyin_freq[pinyin] = word_emit_pinyin_freq.get(pinyin, 0) + freq\n",
    "                emit_pinyin_freq[word] = word_emit_pinyin_freq\n",
    "\n",
    "                if is_first:\n",
    "                    init_words_freq[word] = init_words_freq.get(word, 0) + freq\n",
    "                    is_first = False\n",
    "                else:\n",
    "                    word_transmission_freq = transmission_freq.get(last_word, {})\n",
    "                    word_transmission_freq[word] = word_transmission_freq.get(word, 0) + freq\n",
    "                    transmission_freq[last_word] = word_transmission_freq\n",
    "\n",
    "                last_word = word\n",
    "\n",
    "    return init_words_freq, transmission_freq, emit_pinyin_freq\n",
    "\n",
    "\n",
    "def normal_probability(freq, total_freq):\n",
    "    return freq * 1.0 / total_freq\n",
    "\n",
    "\n",
    "def build_hmm(init_words_freq, transmission_freq, emit_pinyin_freq):\n",
    "    init_words_probability = {}\n",
    "    transmission_probability = {}\n",
    "    reverse_emit_pinyin_probability = {}\n",
    "\n",
    "    init_word_total_freq = np.sum(list(init_words_freq.values()))\n",
    "\n",
    "    for init_word, freq in init_words_freq.items():\n",
    "        init_words_probability[init_word] = normal_probability(freq, init_word_total_freq)\n",
    "\n",
    "    reverse_transmit_dict = {}\n",
    "    for from_word, to_words_freq in transmission_freq.items():\n",
    "        for to_word in to_words_freq.keys():\n",
    "            word_reverse_transmit_set = reverse_transmit_dict.get(to_word, set({}))\n",
    "            word_reverse_transmit_set.add(from_word)\n",
    "            reverse_transmit_dict[to_word] = word_reverse_transmit_set\n",
    "\n",
    "    for from_word, to_words_freq in transmission_freq.items():\n",
    "        to_word_total_freqs = np.sum(list(to_words_freq.values()))\n",
    "        for to_word, to_word_freq in to_words_freq.items():\n",
    "            words_transmission_probability = transmission_probability.get(from_word, {})\n",
    "            words_transmission_probability[to_word] = normal_probability(to_word_freq, to_word_total_freqs)\n",
    "            transmission_probability[from_word] = words_transmission_probability\n",
    "\n",
    "    for word, pinyins_freq in emit_pinyin_freq.items():\n",
    "        total_pinyin_freq = np.sum(list(pinyins_freq.values()))\n",
    "        for pinyin, freq in pinyins_freq.items():\n",
    "            pinyin_words_probability = reverse_emit_pinyin_probability.get(pinyin, {})\n",
    "            pinyin_words_probability[word] = normal_probability(freq, total_pinyin_freq)\n",
    "            reverse_emit_pinyin_probability[pinyin] = pinyin_words_probability\n",
    "\n",
    "    return init_words_probability, transmission_probability, reverse_emit_pinyin_probability"
   ]
  },
  {
   "cell_type": "code",
   "execution_count": 2,
   "id": "2f32a0f3-b110-46a3-86f3-d17bfe41c349",
   "metadata": {},
   "outputs": [],
   "source": [
    "# 如果其他人跑这个例子，需要把路径替换下\n",
    "init_words_freq, transmission_freq, emit_pinyin_freq = load_words_freq_pinyin(\n",
    "        \"/$path_to_file/code/kata-hmm/data/global_words_freq_pinyin.txt\")\n",
    "\n",
    "init_words_probability, transmission_probability, reverse_emit_pinyin_probability = build_hmm(init_words_freq,\n",
    "                                                                                                  transmission_freq,\n",
    "                                                                                                  emit_pinyin_freq)"
   ]
  },
  {
   "cell_type": "code",
   "execution_count": 3,
   "id": "974ac9b0-b474-4481-9d67-ec62a59c7df8",
   "metadata": {},
   "outputs": [
    {
     "data": {
      "text/plain": [
       "{'海星': 1.0, '海兴': 1.0, '海行': 1.0, '海幸': 1.0, '氦星': 1.0}"
      ]
     },
     "execution_count": 3,
     "metadata": {},
     "output_type": "execute_result"
    }
   ],
   "source": [
    "reverse_emit_pinyin_probability[\"hai'xing\"]"
   ]
  },
  {
   "cell_type": "code",
   "execution_count": 4,
   "id": "ff25a1a9-aaef-4cf0-8e42-7bca36237a14",
   "metadata": {},
   "outputs": [
    {
     "data": {
      "text/plain": [
       "{'中国': 1.0, '种果': 1.0, '钟国': 1.0, '仲果': 1.0, '仲国': 1.0, '钟果': 1.0, '重国': 1.0}"
      ]
     },
     "execution_count": 4,
     "metadata": {},
     "output_type": "execute_result"
    }
   ],
   "source": [
    "reverse_emit_pinyin_probability[\"zhong'guo\"]"
   ]
  },
  {
   "cell_type": "code",
   "execution_count": 5,
   "id": "9353a8e1-ac89-40de-a3d7-fe5034bb5eea",
   "metadata": {},
   "outputs": [
    {
     "data": {
      "text/plain": [
       "{'人民': 1.0, '任民': 1.0, '任敏': 1.0, '任岷': 1.0, '任闽': 1.0}"
      ]
     },
     "execution_count": 5,
     "metadata": {},
     "output_type": "execute_result"
    }
   ],
   "source": [
    "reverse_emit_pinyin_probability[\"ren'min\"]"
   ]
  },
  {
   "cell_type": "code",
   "execution_count": 6,
   "id": "3aa5c876-cd72-42d1-b50f-a74c29aaaeb8",
   "metadata": {},
   "outputs": [
    {
     "data": {
      "text/plain": [
       "{'项目': 1.0, '橡木': 1.0, '向慕': 1.0, '香木': 1.0, '相睦': 1.0}"
      ]
     },
     "execution_count": 6,
     "metadata": {},
     "output_type": "execute_result"
    }
   ],
   "source": [
    "reverse_emit_pinyin_probability[\"xiang'mu\"]"
   ]
  },
  {
   "cell_type": "code",
   "execution_count": 7,
   "id": "c22a941a-2780-4e5a-9a47-5362419cb741",
   "metadata": {},
   "outputs": [
    {
     "data": {
      "text/plain": [
       "{'管理': 1.0,\n",
       " '惯例': 1.0,\n",
       " '官吏': 1.0,\n",
       " '观礼': 1.0,\n",
       " '关里': 1.0,\n",
       " '官莉': 1.0,\n",
       " '关丽': 1.0,\n",
       " '关力': 1.0,\n",
       " '官立': 1.0,\n",
       " '官理': 1.0,\n",
       " '官利': 1.0,\n",
       " '官李': 1.0,\n",
       " '关莉': 1.0,\n",
       " '关立': 1.0,\n",
       " '官里': 1.0,\n",
       " '关礼': 1.0,\n",
       " '管李': 1.0,\n",
       " '管力': 1.0,\n",
       " '关李': 1.0,\n",
       " '官隶': 1.0,\n",
       " '管里': 1.0,\n",
       " '管立': 1.0,\n",
       " '观里': 1.0,\n",
       " '管莉': 1.0}"
      ]
     },
     "execution_count": 7,
     "metadata": {},
     "output_type": "execute_result"
    }
   ],
   "source": [
    "reverse_emit_pinyin_probability[\"guan'li\"]"
   ]
  },
  {
   "cell_type": "code",
   "execution_count": 8,
   "id": "14feea1d-7f65-4ea6-bcd8-777c192e706d",
   "metadata": {},
   "outputs": [
    {
     "data": {
      "text/plain": [
       "{'项目管理': 1.0}"
      ]
     },
     "execution_count": 8,
     "metadata": {},
     "output_type": "execute_result"
    }
   ],
   "source": [
    "reverse_emit_pinyin_probability[\"xiang'mu'guan'li\"]"
   ]
  },
  {
   "cell_type": "code",
   "execution_count": 9,
   "id": "548dc856-6ec6-4b4b-bf4f-d48ca721c2ec",
   "metadata": {},
   "outputs": [
    {
     "data": {
      "text/plain": [
       "6.16053799425101e-05"
      ]
     },
     "execution_count": 9,
     "metadata": {},
     "output_type": "execute_result"
    }
   ],
   "source": [
    "init_words_probability[\"的确\"]"
   ]
  },
  {
   "cell_type": "code",
   "execution_count": 10,
   "id": "246a1829-0d11-42cb-a4e6-afb9ae940fad",
   "metadata": {},
   "outputs": [
    {
     "data": {
      "text/plain": [
       "{'西安': 1.0,\n",
       " '西岸': 1.0,\n",
       " '希安': 1.0,\n",
       " '锡安': 1.0,\n",
       " '溪岸': 1.0,\n",
       " '烯胺': 1.0,\n",
       " '喜按': 1.0,\n",
       " '西庵': 1.0}"
      ]
     },
     "execution_count": 10,
     "metadata": {},
     "output_type": "execute_result"
    }
   ],
   "source": [
    "reverse_emit_pinyin_probability[\"xi'an\"]"
   ]
  },
  {
   "cell_type": "code",
   "execution_count": 11,
   "id": "730b073d-1981-4838-ad78-77752ccdb09f",
   "metadata": {},
   "outputs": [
    {
     "data": {
      "text/plain": [
       "4.2566374027998134e-05"
      ]
     },
     "execution_count": 11,
     "metadata": {},
     "output_type": "execute_result"
    }
   ],
   "source": [
    "init_words_probability['西安']"
   ]
  },
  {
   "cell_type": "code",
   "execution_count": 12,
   "id": "fed34202-be34-44a3-af4f-7e6e167f9867",
   "metadata": {},
   "outputs": [
    {
     "data": {
      "text/plain": [
       "4.718907802603711e-05"
      ]
     },
     "execution_count": 12,
     "metadata": {},
     "output_type": "execute_result"
    }
   ],
   "source": [
    "init_words_probability['仙']"
   ]
  },
  {
   "cell_type": "code",
   "execution_count": 13,
   "id": "d705d527-f7dd-4bbf-80ac-64a96b1a47c1",
   "metadata": {},
   "outputs": [
    {
     "data": {
      "text/plain": [
       "False"
      ]
     },
     "execution_count": 13,
     "metadata": {},
     "output_type": "execute_result"
    }
   ],
   "source": [
    "\"西安人\"  in transmission_probability"
   ]
  },
  {
   "cell_type": "code",
   "execution_count": 14,
   "id": "10e9220b-62b8-4aca-a229-db68d9f2078f",
   "metadata": {},
   "outputs": [
    {
     "data": {
      "text/plain": [
       "{'者': 0.4823529411764706, '业': 0.41568627450980394, '法': 0.10196078431372549}"
      ]
     },
     "execution_count": 14,
     "metadata": {},
     "output_type": "execute_result"
    }
   ],
   "source": [
    "transmission_probability['现任']"
   ]
  },
  {
   "cell_type": "code",
   "execution_count": 15,
   "id": "3b51d124-5022-4248-9ba6-6a83d8e4334a",
   "metadata": {},
   "outputs": [
    {
     "name": "stdout",
     "output_type": "stream",
     "text": [
      "西安 人民 0.006269110383383692\n"
     ]
    },
    {
     "data": {
      "text/plain": [
       "(2.66853297401917e-07, 2)"
      ]
     },
     "execution_count": 15,
     "metadata": {},
     "output_type": "execute_result"
    }
   ],
   "source": [
    "import numpy as np\n",
    "\n",
    "\n",
    "def get_output_sequence_probability_by_forward(output_sequence, init_state_probability,\n",
    "                                                    transmission_probability,\n",
    "                                                    reverse_emission_probability):\n",
    "    current_output_probability = {}\n",
    "\n",
    "    for current_state, emit_observation_probability in reverse_emission_probability.get(output_sequence[0],\n",
    "                                                                                        {}).items():\n",
    "        hidden_state_probability = init_state_probability.get(current_state, -1)\n",
    "        if hidden_state_probability < 0:\n",
    "            continue\n",
    "        current_output_probability[current_state] = hidden_state_probability * emit_observation_probability\n",
    "\n",
    "    if len(current_output_probability) == 0:\n",
    "        return 0, 0\n",
    "\n",
    "    last_words_output_probability = current_output_probability\n",
    "    next_to_match_index = 1\n",
    "\n",
    "    for index, output in enumerate(output_sequence[1:], 1):\n",
    "        current_output_probability = {}\n",
    "        for current_state, emit_observation_probability in reverse_emission_probability.get(output, {}).items():\n",
    "            to_current_state_probability = 0\n",
    "            for last_state, last_probability in last_words_output_probability.items():\n",
    "                the_transmission_probability = transmission_probability.get(last_state, {}).get(current_state, -1)\n",
    "                if the_transmission_probability < 0:\n",
    "                    continue\n",
    "                print(last_state, current_state, the_transmission_probability)\n",
    "                to_current_state_probability += last_probability * the_transmission_probability\n",
    "            if to_current_state_probability != 0:\n",
    "                current_output_probability[current_state] = to_current_state_probability * emit_observation_probability\n",
    "\n",
    "        last_words_output_probability = current_output_probability\n",
    "\n",
    "        if len(current_output_probability) == 0:\n",
    "            next_to_match_index = index\n",
    "            break\n",
    "        else:\n",
    "            next_to_match_index = index + 1\n",
    "\n",
    "    return np.sum(list(last_words_output_probability.values())), next_to_match_index\n",
    "\n",
    "\n",
    "\n",
    "\n",
    "get_output_sequence_probability_by_forward([\"xi'an\", \"ren'min\"], init_words_probability, transmission_probability,\n",
    "                              reverse_emit_pinyin_probability)"
   ]
  },
  {
   "cell_type": "code",
   "execution_count": 16,
   "id": "ebda507f-bccb-413c-b03f-648671150f5d",
   "metadata": {},
   "outputs": [
    {
     "data": {
      "text/plain": [
       "(2.2841498038741894e-05, 1)"
      ]
     },
     "execution_count": 16,
     "metadata": {},
     "output_type": "execute_result"
    }
   ],
   "source": [
    "\n",
    "get_output_sequence_probability_by_forward([\"xian'ren\"], init_words_probability, transmission_probability,\n",
    "                              reverse_emit_pinyin_probability)"
   ]
  },
  {
   "cell_type": "code",
   "execution_count": 17,
   "id": "f0b0e41a-af57-4c7a-b597-469542ed2636",
   "metadata": {},
   "outputs": [
    {
     "data": {
      "text/plain": [
       "(0, 0)"
      ]
     },
     "execution_count": 17,
     "metadata": {},
     "output_type": "execute_result"
    }
   ],
   "source": [
    "\n",
    "get_output_sequence_probability_by_forward([\"xiang'mux\", \"guan'li'zhe\", \"ni'hao\"], init_words_probability, transmission_probability,\n",
    "                              reverse_emit_pinyin_probability)"
   ]
  },
  {
   "cell_type": "code",
   "execution_count": 18,
   "id": "5c6dda00-112f-452e-99c4-c01a005c564d",
   "metadata": {},
   "outputs": [
    {
     "data": {
      "text/plain": [
       "(3.5544470878565256e-05, 1)"
      ]
     },
     "execution_count": 18,
     "metadata": {},
     "output_type": "execute_result"
    }
   ],
   "source": [
    "\n",
    "get_output_sequence_probability_by_forward([ \"ni'hao\"], init_words_probability, transmission_probability,\n",
    "                              reverse_emit_pinyin_probability)"
   ]
  },
  {
   "cell_type": "code",
   "execution_count": 19,
   "id": "1e836902-be29-45f0-bd26-206280d1f31d",
   "metadata": {},
   "outputs": [
    {
     "data": {
      "text/plain": [
       "0.03953361267990527"
      ]
     },
     "execution_count": 19,
     "metadata": {},
     "output_type": "execute_result"
    }
   ],
   "source": [
    "transmission_probability[\"项目\"][\"管理者\"]"
   ]
  },
  {
   "cell_type": "code",
   "execution_count": 20,
   "id": "878cd0b5-b261-4b61-b0a7-27f8c0945fb2",
   "metadata": {},
   "outputs": [
    {
     "data": {
      "text/plain": [
       "(['项目', '管理者'], 1.4815228889966823e-05, 2)"
      ]
     },
     "execution_count": 20,
     "metadata": {},
     "output_type": "execute_result"
    }
   ],
   "source": [
    "\n",
    "def get_max_probability_states_by_outputs(output_sequence, init_state_probability, transmission_probability,\n",
    "                                          reverse_emission_probability):\n",
    "    output_probability_list = []\n",
    "\n",
    "    current_output_probability = {}\n",
    "    for current_state, emit_observation_probability in reverse_emission_probability.get(output_sequence[0],\n",
    "                                                                                        {}).items():\n",
    "        hidden_state_probability = init_state_probability.get(current_state, -1)\n",
    "        if hidden_state_probability < 0:\n",
    "            continue\n",
    "        current_output_probability[current_state] = (hidden_state_probability * emit_observation_probability, None)\n",
    "\n",
    "    if len(current_output_probability) == 0:\n",
    "        return [], 0, 0\n",
    "\n",
    "    output_probability_list.append(current_output_probability)\n",
    "    next_process_index = 1\n",
    "\n",
    "    last_state_output_probability = current_output_probability\n",
    "\n",
    "    for index, output in enumerate(output_sequence[1:], 1):\n",
    "\n",
    "        current_state_output_probability = {}\n",
    "\n",
    "        for current_state, emit_observation_probability in reverse_emission_probability.get(output, {}).items():\n",
    "            max_to_current_word_probability = 0\n",
    "            parent_word = None\n",
    "\n",
    "            for last_state, (last_output_probability, _) in last_state_output_probability.items():\n",
    "\n",
    "                the_transmission_probability = transmission_probability.get(last_state, {}).get(current_state, -1)\n",
    "                if the_transmission_probability < 0:\n",
    "                    continue\n",
    "                if last_output_probability * the_transmission_probability > max_to_current_word_probability:\n",
    "                    max_to_current_word_probability = last_output_probability * the_transmission_probability\n",
    "                    parent_word = last_state\n",
    "\n",
    "            if max_to_current_word_probability != 0:\n",
    "                word_output_probability = max_to_current_word_probability * emit_observation_probability\n",
    "                current_state_output_probability[current_state] = (word_output_probability, parent_word)\n",
    "\n",
    "        if len(current_state_output_probability) == 0:\n",
    "            # 匹配失败，返回未匹配的序列的起始位置和已经匹配的结果\n",
    "            break\n",
    "        else:\n",
    "            next_process_index = index + 1\n",
    "            output_probability_list.append(current_state_output_probability)\n",
    "            last_state_output_probability = current_state_output_probability\n",
    "\n",
    "    top_state_output_probability = sorted(last_state_output_probability.items(), key=lambda kv: kv[1][0])[-1]\n",
    "    # print(top_state_output_probability)\n",
    "    max_probability_states = []\n",
    "    max_probability_states.insert(0, top_state_output_probability[0])\n",
    "    parent_word = top_state_output_probability[1][1]\n",
    "\n",
    "    for output_probability in reversed(output_probability_list[0:-1]):\n",
    "        # print(output_probability, output_probability.get(parent_word))\n",
    "        max_probability_states.insert(0, parent_word)\n",
    "        parent_word = output_probability.get(parent_word)[1]\n",
    "\n",
    "    return max_probability_states, top_state_output_probability[1][0], next_process_index\n",
    "\n",
    "get_max_probability_states_by_outputs([\"xiang'mu\", \"guan'li'zhe\"], init_words_probability, transmission_probability,\n",
    "                              reverse_emit_pinyin_probability)"
   ]
  },
  {
   "cell_type": "code",
   "execution_count": 21,
   "id": "490f4236-bd1b-48da-8884-148c51e4e43d",
   "metadata": {},
   "outputs": [
    {
     "data": {
      "text/plain": [
       "(['明确', '项目', '管理费'], 9.666320445311179e-09, 3)"
      ]
     },
     "execution_count": 21,
     "metadata": {},
     "output_type": "execute_result"
    }
   ],
   "source": [
    "get_max_probability_states_by_outputs([\"ming'que\", \"xiang'mu\", \"guan'li'fei\"], init_words_probability, transmission_probability,\n",
    "                              reverse_emit_pinyin_probability)"
   ]
  },
  {
   "cell_type": "code",
   "execution_count": 22,
   "id": "f261fd67-5226-4e23-aff5-ad26af6798c9",
   "metadata": {},
   "outputs": [
    {
     "data": {
      "text/plain": [
       "{'人民': 1.0, '任民': 1.0, '任敏': 1.0, '任岷': 1.0, '任闽': 1.0}"
      ]
     },
     "execution_count": 22,
     "metadata": {},
     "output_type": "execute_result"
    }
   ],
   "source": [
    "reverse_emit_pinyin_probability[\"ren'min\"]"
   ]
  },
  {
   "cell_type": "code",
   "execution_count": 23,
   "id": "6bad424a-3ccb-437f-a3e7-9747858e87ee",
   "metadata": {},
   "outputs": [
    {
     "data": {
      "text/plain": [
       "0.0003681877957097658"
      ]
     },
     "execution_count": 23,
     "metadata": {},
     "output_type": "execute_result"
    }
   ],
   "source": [
    "init_words_probability['人民']"
   ]
  },
  {
   "cell_type": "code",
   "execution_count": 24,
   "id": "36b56c64-76cc-422b-b223-682b7659d874",
   "metadata": {},
   "outputs": [
    {
     "data": {
      "text/plain": [
       "(['人民'], 0.0003681877957097658, 1)"
      ]
     },
     "execution_count": 24,
     "metadata": {},
     "output_type": "execute_result"
    }
   ],
   "source": [
    "get_max_probability_states_by_outputs([\"ren'min\", \"jiao'shi\"], init_words_probability, transmission_probability,\n",
    "                              reverse_emit_pinyin_probability)"
   ]
  },
  {
   "cell_type": "code",
   "execution_count": 25,
   "id": "e8f82035-6e4c-44a9-a8b0-699b492b5746",
   "metadata": {},
   "outputs": [
    {
     "data": {
      "text/plain": [
       "(['教师'], 0.00011095383412473691, 1)"
      ]
     },
     "execution_count": 25,
     "metadata": {},
     "output_type": "execute_result"
    }
   ],
   "source": [
    "get_max_probability_states_by_outputs([\"jiao'shi\"], init_words_probability, transmission_probability,\n",
    "                              reverse_emit_pinyin_probability)"
   ]
  },
  {
   "cell_type": "code",
   "execution_count": 26,
   "id": "f4ea038f-e4bd-4124-8b2b-a91701b03f54",
   "metadata": {},
   "outputs": [
    {
     "data": {
      "text/plain": [
       "(['上海'], 0.00040481335462104543, 1)"
      ]
     },
     "execution_count": 26,
     "metadata": {},
     "output_type": "execute_result"
    }
   ],
   "source": [
    "get_max_probability_states_by_outputs([\"shang'hai\", \"fei'ji'chang\"], init_words_probability, transmission_probability,\n",
    "                              reverse_emit_pinyin_probability)"
   ]
  },
  {
   "cell_type": "code",
   "execution_count": 27,
   "id": "a7739faa-3cb5-4755-8d25-040e203420c9",
   "metadata": {},
   "outputs": [
    {
     "data": {
      "text/plain": [
       "(['上海', '机场'], 5.385845179331931e-06, 2)"
      ]
     },
     "execution_count": 27,
     "metadata": {},
     "output_type": "execute_result"
    }
   ],
   "source": [
    "get_max_probability_states_by_outputs([\"shang'hai\", \"ji'chang\"], init_words_probability, transmission_probability,\n",
    "                              reverse_emit_pinyin_probability)"
   ]
  },
  {
   "cell_type": "code",
   "execution_count": 28,
   "id": "a5fcc979-e23e-4ded-bbab-5fbe6c223060",
   "metadata": {},
   "outputs": [
    {
     "data": {
      "text/plain": [
       "(['我'], 0.009121321887644876, 1)"
      ]
     },
     "execution_count": 28,
     "metadata": {},
     "output_type": "execute_result"
    }
   ],
   "source": [
    "get_max_probability_states_by_outputs([\"wo\",\"kan\", \"hai\", \"xing\"], init_words_probability, transmission_probability,\n",
    "                              reverse_emit_pinyin_probability)"
   ]
  },
  {
   "cell_type": "code",
   "execution_count": 29,
   "id": "353066a8-280d-4596-bc8c-47dacaadc4a5",
   "metadata": {},
   "outputs": [
    {
     "data": {
      "text/plain": [
       "(['项目'], 0.0003747501906775479, 1)"
      ]
     },
     "execution_count": 29,
     "metadata": {},
     "output_type": "execute_result"
    }
   ],
   "source": [
    "get_max_probability_states_by_outputs([\"xiang'mu\",\"guan'li\"], init_words_probability, transmission_probability,\n",
    "                            reverse_emit_pinyin_probability)"
   ]
  },
  {
   "cell_type": "code",
   "execution_count": 30,
   "id": "85c4df47-f19a-4668-8f24-350a7b0a9f2b",
   "metadata": {},
   "outputs": [
    {
     "data": {
      "text/plain": [
       "(['项目管理'], 2.985241692885244e-06, 1)"
      ]
     },
     "execution_count": 30,
     "metadata": {},
     "output_type": "execute_result"
    }
   ],
   "source": [
    "get_max_probability_states_by_outputs([\"xiang'mu'guan'li\"], init_words_probability, transmission_probability,  reverse_emit_pinyin_probability)"
   ]
  },
  {
   "cell_type": "code",
   "execution_count": 31,
   "id": "3d9e3478-1bc3-47c1-9fad-2d9167bc9908",
   "metadata": {},
   "outputs": [
    {
     "data": {
      "text/plain": [
       "(['爱国'], 1.8340590092600513e-05, 1)"
      ]
     },
     "execution_count": 31,
     "metadata": {},
     "output_type": "execute_result"
    }
   ],
   "source": [
    "get_max_probability_states_by_outputs([\"ai'guo\"], init_words_probability, transmission_probability,\n",
    "                              reverse_emit_pinyin_probability)"
   ]
  },
  {
   "cell_type": "code",
   "execution_count": 32,
   "id": "c5996cc8-e86b-4838-955f-c2dd8cac493a",
   "metadata": {},
   "outputs": [
    {
     "data": {
      "text/plain": [
       "(['爱'], 0.0007445421728480498, 1)"
      ]
     },
     "execution_count": 32,
     "metadata": {},
     "output_type": "execute_result"
    }
   ],
   "source": [
    "get_max_probability_states_by_outputs([\"ai\", \"guo\"], init_words_probability, transmission_probability,\n",
    "                              reverse_emit_pinyin_probability)"
   ]
  },
  {
   "cell_type": "code",
   "execution_count": 33,
   "id": "c0859594-5669-4499-b548-06f656800d5f",
   "metadata": {},
   "outputs": [
    {
     "data": {
      "text/plain": [
       "([], 0, 0)"
      ]
     },
     "execution_count": 33,
     "metadata": {},
     "output_type": "execute_result"
    }
   ],
   "source": [
    "get_max_probability_states_by_outputs(['ang1', 'mu', 'gu', 'an', 'li'], init_words_probability, transmission_probability,\n",
    "                              reverse_emit_pinyin_probability)"
   ]
  },
  {
   "cell_type": "code",
   "execution_count": 34,
   "id": "5b90880e-b51b-4c3c-b061-a363e63b7823",
   "metadata": {},
   "outputs": [
    {
     "data": {
      "text/plain": [
       "('项目-管理', -15.266582870311279, 2)"
      ]
     },
     "execution_count": 34,
     "metadata": {},
     "output_type": "execute_result"
    }
   ],
   "source": [
    "\n",
    "def get_hanzi_by_pinyin(pinyin, init_words_probability, transmission_probability, reverse_emit_pinyin_probability):\n",
    "    hanzi_list = []\n",
    "    hangzi_probability_list = []\n",
    "\n",
    "    next_process_index = 0\n",
    "\n",
    "    while next_process_index != len(pinyin):\n",
    "        max_probability_states, word_probability,  rest_next_process_index = \\\n",
    "            get_max_probability_states_by_outputs(pinyin[next_process_index:], init_words_probability,\n",
    "                                                  transmission_probability,\n",
    "                                                  reverse_emit_pinyin_probability)\n",
    "        if len(max_probability_states) == 0:\n",
    "            break\n",
    "\n",
    "        hanzi_list += max_probability_states\n",
    "        hangzi_probability_list.append(word_probability)\n",
    "        next_process_index += rest_next_process_index\n",
    "\n",
    "    if next_process_index != len(pinyin):\n",
    "        hanzi_list += pinyin[next_process_index:]\n",
    "\n",
    "    return \"-\".join(hanzi_list), np.sum(np.log(hangzi_probability_list)), next_process_index\n",
    "\n",
    "get_hanzi_by_pinyin([\"xiang'mu\", \"guan'li\"], init_words_probability, transmission_probability,\n",
    "                              reverse_emit_pinyin_probability)"
   ]
  },
  {
   "cell_type": "code",
   "execution_count": 35,
   "id": "c3d7f09b-678c-4e71-8199-49e95676d596",
   "metadata": {},
   "outputs": [
    {
     "data": {
      "text/plain": [
       "('爱-过', -13.95656809394384, 2)"
      ]
     },
     "execution_count": 35,
     "metadata": {},
     "output_type": "execute_result"
    }
   ],
   "source": [
    "get_hanzi_by_pinyin([\"ai\", \"guo\"], init_words_probability, transmission_probability,\n",
    "                              reverse_emit_pinyin_probability)"
   ]
  },
  {
   "cell_type": "code",
   "execution_count": 36,
   "id": "1d91b4b7-f4eb-4d2b-af99-494e1938d763",
   "metadata": {},
   "outputs": [
    {
     "data": {
      "text/plain": [
       "('明确-项目-管理费', -18.454618112271746, 3)"
      ]
     },
     "execution_count": 36,
     "metadata": {},
     "output_type": "execute_result"
    }
   ],
   "source": [
    "get_hanzi_by_pinyin([\"ming'que\", \"xiang'mu\", \"guan'li'fei\"], init_words_probability, transmission_probability,\n",
    "                              reverse_emit_pinyin_probability)"
   ]
  },
  {
   "cell_type": "code",
   "execution_count": 37,
   "id": "77952071-0790-4142-b037-a69f426e60f3",
   "metadata": {},
   "outputs": [
    {
     "data": {
      "text/plain": [
       "('昂-木-股-按-里', -42.96642988781565, 5)"
      ]
     },
     "execution_count": 37,
     "metadata": {},
     "output_type": "execute_result"
    }
   ],
   "source": [
    "get_hanzi_by_pinyin(['ang', 'mu', 'gu', 'an', 'li'], init_words_probability, transmission_probability,\n",
    "                              reverse_emit_pinyin_probability)"
   ]
  },
  {
   "cell_type": "code",
   "execution_count": 38,
   "id": "200348cf-47ac-4444-a02c-f477248dd301",
   "metadata": {},
   "outputs": [],
   "source": [
    "PINYIN_SET = set()\n",
    "# 如果其他人跑这个例子，需要把路径替换下\n",
    "with open('/$path_to_file/code/kata-hmm/data/intact_pinyin.txt', 'r', encoding='utf-8') as f:\n",
    "    PINYIN_SET = set(s for s in f.read().split('\\n'))\n",
    "\n",
    "MAX_PINYIN_LEN = np.max(list(len(s) for s in PINYIN_SET))\n",
    "\n",
    "\n",
    "def cut_pinyin(pinyin_str):\n",
    "    pinyin_list = []\n",
    "    for pinyin_len in range(MAX_PINYIN_LEN, 0, -1):\n",
    "        if len(pinyin_str) >= pinyin_len and pinyin_str[0:pinyin_len] in PINYIN_SET:\n",
    "            if len(pinyin_str) != pinyin_len:\n",
    "                rest_pinyin_list = cut_pinyin(pinyin_str[pinyin_len:])\n",
    "                if len(rest_pinyin_list) > 0:\n",
    "                    for rest_pinyin_list in rest_pinyin_list:\n",
    "                        pinyin_list.append([pinyin_str[0:pinyin_len]] + rest_pinyin_list)\n",
    "            else:\n",
    "                pinyin_list.append([pinyin_str[0:pinyin_len]])\n",
    "\n",
    "    return pinyin_list"
   ]
  },
  {
   "cell_type": "code",
   "execution_count": 39,
   "id": "dfa97fae-14fe-438d-b307-2950ef48fccf",
   "metadata": {},
   "outputs": [],
   "source": [
    "\n",
    "def get_hanzi_by_pinyin(pinyin_list, init_words_probability, transmission_probability, reverse_emit_pinyin_probability):\n",
    "    hanzi_list = []\n",
    "    hangzi_list_probability = 1\n",
    "\n",
    "    next_process_index = 0\n",
    "\n",
    "    while next_process_index != len(pinyin_list):\n",
    "        max_probability_states, word_probability, rest_next_process_index = \\\n",
    "            get_max_probability_states_by_outputs(pinyin_list[next_process_index:], init_words_probability,\n",
    "                                                  transmission_probability,\n",
    "                                                  reverse_emit_pinyin_probability)\n",
    "        if len(max_probability_states) == 0:\n",
    "            break\n",
    "\n",
    "        hanzi_list += max_probability_states\n",
    "        hangzi_list_probability *= word_probability\n",
    "        next_process_index += rest_next_process_index\n",
    "\n",
    "    if next_process_index != len(pinyin_list):\n",
    "        hanzi_list += pinyin_list[next_process_index:]\n",
    "\n",
    "    return \"-\".join(hanzi_list), hangzi_list_probability, next_process_index == len(pinyin_list)\n",
    "\n",
    "\n",
    "def get_all_pinyin_list(pinyin_list):\n",
    "    all_pinyin_list = []\n",
    "    max_word_len = 4\n",
    "    for word_len in range(max_word_len, 0, -1):\n",
    "        if len(pinyin_list) > word_len:\n",
    "            rest_pinyin_list = get_all_pinyin_list(pinyin_list[word_len:])\n",
    "            if len(rest_pinyin_list) > 0:\n",
    "                for rest_pinyin_list in rest_pinyin_list:\n",
    "                    all_pinyin_list.append([\"'\".join(pinyin_list[0:word_len])] + rest_pinyin_list)\n",
    "        elif len(pinyin_list) == word_len:\n",
    "            all_pinyin_list.append([\"'\".join(pinyin_list[0:word_len])])\n",
    "\n",
    "    return all_pinyin_list\n",
    "\n",
    "def get_all_hangzi_by_pinyin(pinyin_str, init_words_probability, transmission_probability,\n",
    "                             reverse_emit_pinyin_probability):\n",
    "    all_hanzi_list = []\n",
    "\n",
    "    for raw_pinyin_list in cut_pinyin(pinyin_str):\n",
    "        for combined_pinyin_list in get_all_pinyin_list(raw_pinyin_list):\n",
    "            all_hanzi_list.append(\n",
    "                get_hanzi_by_pinyin(combined_pinyin_list, init_words_probability, transmission_probability,\n",
    "                                    reverse_emit_pinyin_probability))\n",
    "\n",
    "    def my_comparator(hanzi_list_a, hanzi_list_b):\n",
    "        if hanzi_list_a[2] == hanzi_list_b[2]:\n",
    "            return hanzi_list_a[1] - hanzi_list_b[1]\n",
    "        else:\n",
    "            return hanzi_list_a[2] - hanzi_list_b[2]\n",
    "\n",
    "    all_hanzi_list.sort(key=functools.cmp_to_key(my_comparator), reverse=True)\n",
    "\n",
    "    return all_hanzi_list\n",
    "\n"
   ]
  },
  {
   "cell_type": "code",
   "execution_count": 40,
   "id": "cfc95663-7bd8-4dd9-a97b-0eec642bf6f1",
   "metadata": {},
   "outputs": [
    {
     "data": {
      "text/plain": [
       "[['deng', 'feng', 'shao', 'lin', 'si'],\n",
       " ['deng', 'feng', 'sha', 'o', 'lin', 'si']]"
      ]
     },
     "execution_count": 40,
     "metadata": {},
     "output_type": "execute_result"
    }
   ],
   "source": [
    "cut_pinyin('dengfengshaolinsi')"
   ]
  },
  {
   "cell_type": "code",
   "execution_count": 41,
   "id": "0769003d-0503-44c8-bc2f-91a3854a7de8",
   "metadata": {},
   "outputs": [
    {
     "data": {
      "text/plain": [
       "[[\"deng'feng'shao'lin\", 'si'],\n",
       " [\"deng'feng'shao\", \"lin'si\"],\n",
       " [\"deng'feng'shao\", 'lin', 'si'],\n",
       " [\"deng'feng\", \"shao'lin'si\"],\n",
       " [\"deng'feng\", \"shao'lin\", 'si'],\n",
       " [\"deng'feng\", 'shao', \"lin'si\"],\n",
       " [\"deng'feng\", 'shao', 'lin', 'si'],\n",
       " ['deng', \"feng'shao'lin'si\"],\n",
       " ['deng', \"feng'shao'lin\", 'si'],\n",
       " ['deng', \"feng'shao\", \"lin'si\"],\n",
       " ['deng', \"feng'shao\", 'lin', 'si'],\n",
       " ['deng', 'feng', \"shao'lin'si\"],\n",
       " ['deng', 'feng', \"shao'lin\", 'si'],\n",
       " ['deng', 'feng', 'shao', \"lin'si\"],\n",
       " ['deng', 'feng', 'shao', 'lin', 'si']]"
      ]
     },
     "execution_count": 41,
     "metadata": {},
     "output_type": "execute_result"
    }
   ],
   "source": [
    "get_all_pinyin_list(['deng', 'feng', 'shao', 'lin', 'si'])"
   ]
  },
  {
   "cell_type": "code",
   "execution_count": 42,
   "id": "c249b8c2-864d-43e6-9ac1-57a549e8753c",
   "metadata": {},
   "outputs": [
    {
     "data": {
      "text/plain": [
       "[('我-看-海星-呀', 3.2629639027664655e-15, True),\n",
       " ('我-看-还-行-呀', 1.9127736991627e-15, True),\n",
       " ('我-看-还-兴亚', 5.043242702514251e-16, True),\n",
       " ('我-坎海-行-呀', 1.0260496073713046e-18, True),\n",
       " ('我-坎海-兴亚', 2.705295036761582e-19, True),\n",
       " (\"wo'kan'hai'xing-ya\", 1, False),\n",
       " (\"wo'kan'hai-xing'ya\", 1, False),\n",
       " (\"wo'kan'hai-xing-ya\", 1, False),\n",
       " (\"wo'kan-hai'xing'ya\", 1, False),\n",
       " (\"wo'kan-hai'xing-ya\", 1, False),\n",
       " (\"wo'kan-hai-xing'ya\", 1, False),\n",
       " (\"wo'kan-hai-xing-ya\", 1, False),\n",
       " (\"我-kan'hai'xing'ya\", 0.009121321887644876, False),\n",
       " (\"我-kan'hai'xing-ya\", 0.009121321887644876, False),\n",
       " (\"我-看-hai'xing'ya\", 1.4102206887847843e-05, False)]"
      ]
     },
     "execution_count": 42,
     "metadata": {},
     "output_type": "execute_result"
    }
   ],
   "source": [
    "get_all_hangzi_by_pinyin('wokanhaixingya', init_words_probability, transmission_probability,\n",
    "                              reverse_emit_pinyin_probability)"
   ]
  },
  {
   "cell_type": "code",
   "execution_count": 43,
   "id": "2c9f437e-60c8-4381-8ccc-e2eb7c02cfe1",
   "metadata": {},
   "outputs": [
    {
     "data": {
      "text/plain": [
       "[('项目管理', 2.985241692885244e-06, True),\n",
       " ('项目-管理', 2.3431889029020788e-07, True),\n",
       " ('想-木-管理', 1.1673002354046274e-10, True),\n",
       " ('项目-管-里', 7.218419111655347e-11, True),\n",
       " ('项目-股-案例', 3.185566634552571e-12, True),\n",
       " ('项目-固安-里', 5.791772061884458e-14, True),\n",
       " ('想-募股-案例', 3.9743946628514626e-14, True),\n",
       " ('项目-股-按-里', 3.8335485484504726e-14, True),\n",
       " ('想-木-管-里', 3.595980809677243e-14, True),\n",
       " ('想-木-股-案例', 1.5869453281401694e-15, True),\n",
       " ('想-募股-按-里', 4.7828335233940285e-16, True),\n",
       " ('系-昂-木-管理', 3.6482395681983146e-16, True),\n",
       " ('锡昂-木-管理', 8.813583080655662e-17, True),\n",
       " ('想-木-固安-里', 2.8852718117922057e-17, True),\n",
       " ('想-木-股-按-里', 1.909748769080915e-17, True),\n",
       " ('系-昂-募股-案例', 1.2421434887850298e-19, True),\n",
       " ('系-昂-木-管-里', 1.1238753388753342e-19, True),\n",
       " ('锡昂-募股-案例', 3.0008267362521045e-20, True),\n",
       " ('锡昂-木-管-里', 2.7151091605449496e-20, True),\n",
       " ('系-昂-木-股-案例', 4.959783749792152e-21, True),\n",
       " ('系-昂-募股-按-里', 1.4948101592820326e-21, True),\n",
       " ('锡昂-木-股-案例', 1.1982071167126487e-21, True),\n",
       " ('锡昂-募股-按-里', 3.6112303708022715e-22, True),\n",
       " ('系-昂-木-固安-里', 9.017528198423456e-23, True),\n",
       " ('系-昂-木-股-按-里', 5.968662400092754e-23, True),\n",
       " ('锡昂-木-固安-里', 2.1784954763321627e-23, True),\n",
       " ('锡昂-木-股-按-里', 1.4419366097052194e-23, True),\n",
       " (\"xiang'mu'guan-li\", 1, False),\n",
       " (\"xiang'mu'gu'an-li\", 1, False),\n",
       " (\"xiang'mu'gu-an'li\", 1, False),\n",
       " (\"xiang'mu'gu-an-li\", 1, False),\n",
       " (\"xi'ang'mu'guan-li\", 1, False),\n",
       " (\"xi'ang'mu-guan'li\", 1, False),\n",
       " (\"xi'ang'mu-guan-li\", 1, False),\n",
       " (\"xi'ang'mu'gu-an'li\", 1, False),\n",
       " (\"xi'ang'mu'gu-an-li\", 1, False),\n",
       " (\"xi'ang'mu-gu'an'li\", 1, False),\n",
       " (\"xi'ang'mu-gu'an-li\", 1, False),\n",
       " (\"xi'ang'mu-gu-an'li\", 1, False),\n",
       " (\"xi'ang'mu-gu-an-li\", 1, False),\n",
       " (\"想-mu'guan'li\", 0.0012123265092985314, False),\n",
       " (\"想-mu'guan-li\", 0.0012123265092985314, False),\n",
       " (\"想-mu'gu'an'li\", 0.0012123265092985314, False),\n",
       " (\"想-mu'gu'an-li\", 0.0012123265092985314, False),\n",
       " (\"项目-gu'an'li\", 0.0003747501906775479, False),\n",
       " (\"系-ang'mu'guan'li\", 0.000272872909993356, False),\n",
       " (\"系-ang'mu'guan-li\", 0.000272872909993356, False),\n",
       " (\"系-ang'mu-guan'li\", 0.000272872909993356, False),\n",
       " (\"系-ang'mu-guan-li\", 0.000272872909993356, False),\n",
       " (\"系-ang'mu'gu'an-li\", 0.000272872909993356, False),\n",
       " (\"系-ang'mu'gu-an'li\", 0.000272872909993356, False),\n",
       " (\"系-ang'mu'gu-an-li\", 0.000272872909993356, False),\n",
       " (\"系-ang'mu-gu'an'li\", 0.000272872909993356, False),\n",
       " (\"系-ang'mu-gu'an-li\", 0.000272872909993356, False),\n",
       " (\"系-ang'mu-gu-an'li\", 0.000272872909993356, False),\n",
       " (\"系-ang'mu-gu-an-li\", 0.000272872909993356, False),\n",
       " (\"想-木-gu'an'li\", 1.8668831405528016e-07, False),\n",
       " (\"系-昂-mu'guan'li\", 3.788963119043256e-09, False),\n",
       " (\"系-昂-mu'guan-li\", 3.788963119043256e-09, False),\n",
       " (\"系-昂-mu'gu'an'li\", 3.788963119043256e-09, False),\n",
       " (\"系-昂-mu'gu'an-li\", 3.788963119043256e-09, False),\n",
       " (\"锡昂-mu'guan'li\", 9.153549435274549e-10, False),\n",
       " (\"锡昂-mu'guan-li\", 9.153549435274549e-10, False),\n",
       " (\"锡昂-mu'gu'an'li\", 9.153549435274549e-10, False),\n",
       " (\"锡昂-mu'gu'an-li\", 9.153549435274549e-10, False),\n",
       " (\"系-昂-木-gu'an'li\", 5.834691655147479e-13, False),\n",
       " (\"锡昂-木-gu'an'li\", 1.4095713478061594e-13, False)]"
      ]
     },
     "execution_count": 43,
     "metadata": {},
     "output_type": "execute_result"
    }
   ],
   "source": [
    "get_all_hangzi_by_pinyin('xiangmuguanli', init_words_probability, transmission_probability,\n",
    "                              reverse_emit_pinyin_probability)"
   ]
  },
  {
   "cell_type": "code",
   "execution_count": 44,
   "id": "8a0a9032-c974-4a5c-be53-5ec112aaa1b7",
   "metadata": {},
   "outputs": [
    {
     "data": {
      "text/plain": [
       "[('测试-一下', 2.592692338102422e-08, True),\n",
       " ('测试-意-下', 4.863770470524443e-09, True),\n",
       " ('侧-是-一下', 2.371240249117562e-10, True),\n",
       " ('侧-事宜-下', 2.163985365018632e-12, True),\n",
       " ('侧-是-一-下', 6.4185964643025e-13, True),\n",
       " ('测试-依稀-啊', 3.5874314851579074e-13, True),\n",
       " ('侧-是-依稀-啊', 3.2810147982247695e-15, True),\n",
       " ('测试-以-希阿', 6.066057623030774e-16, True),\n",
       " ('侧-事宜-西-阿', 3.0778472928163987e-16, True),\n",
       " ('测试-奕-希-啊', 3.0771364130615394e-16, True),\n",
       " ('侧-是-一-西-阿', 9.129202105839685e-17, True),\n",
       " ('侧-事宜-希阿', 7.0637305306567e-18, True),\n",
       " ('侧-是-一-希阿', 2.095172940712949e-18, True),\n",
       " (\"ce'shi'yi'xia\", 1, False),\n",
       " (\"ce'shi'yi-xia\", 1, False),\n",
       " (\"ce'shi'yi'xi-a\", 1, False),\n",
       " (\"ce'shi'yi-xi'a\", 1, False),\n",
       " (\"ce'shi'yi-xi-a\", 1, False),\n",
       " (\"测试-yi'xi'a\", 8.11575769138903e-05, False),\n",
       " (\"侧-shi'yi'xia\", 8.012317198329584e-05, False),\n",
       " (\"侧-shi'yi'xi'a\", 8.012317198329584e-05, False),\n",
       " (\"侧-shi'yi'xi-a\", 8.012317198329584e-05, False),\n",
       " (\"侧-是-yi'xi'a\", 7.422558784584514e-07, False)]"
      ]
     },
     "execution_count": 44,
     "metadata": {},
     "output_type": "execute_result"
    }
   ],
   "source": [
    "get_all_hangzi_by_pinyin('ceshiyixia', init_words_probability, transmission_probability,\n",
    "                              reverse_emit_pinyin_probability)"
   ]
  },
  {
   "cell_type": "code",
   "execution_count": 45,
   "id": "c7aeccd4-d710-4be7-af84-36211a41c99f",
   "metadata": {},
   "outputs": [
    {
     "data": {
      "text/plain": [
       "[('还-可以', 1.697512553259192e-05, True),\n",
       " ('还-可-意', 7.005086692155357e-09, True),\n",
       " ('海客-以', 2.6192965158066247e-10, True),\n",
       " (\"hai'ke'yi\", 1, False)]"
      ]
     },
     "execution_count": 45,
     "metadata": {},
     "output_type": "execute_result"
    }
   ],
   "source": [
    "get_all_hangzi_by_pinyin('haikeyi', init_words_probability, transmission_probability,\n",
    "                              reverse_emit_pinyin_probability)"
   ]
  },
  {
   "cell_type": "code",
   "execution_count": 46,
   "id": "4fca5c4d-f506-4813-821d-08b4a6192eea",
   "metadata": {},
   "outputs": [
    {
     "data": {
      "text/plain": [
       "[('马尔科夫', 4.1783260951606174e-08, True),\n",
       " ('马尔科-副', 7.31368766040317e-11, True),\n",
       " ('吗-而-克服', 3.5517864187800054e-11, True),\n",
       " ('马尔-克服', 6.982750090584918e-12, True),\n",
       " ('吗-儿科-副', 6.217604372346498e-13, True),\n",
       " ('吗-尔-可-副', 3.1635664938815894e-13, True),\n",
       " ('马尔-珂-芙', 8.363127176924516e-14, True),\n",
       " (\"吗-er'ke'fu\", 0.0005909742585494344, False)]"
      ]
     },
     "execution_count": 46,
     "metadata": {},
     "output_type": "execute_result"
    }
   ],
   "source": [
    "get_all_hangzi_by_pinyin('maerkefu', init_words_probability, transmission_probability,\n",
    "                              reverse_emit_pinyin_probability)"
   ]
  },
  {
   "cell_type": "code",
   "execution_count": 47,
   "id": "f9d96ecb-def6-4b29-a34e-ae2bb2964c77",
   "metadata": {},
   "outputs": [
    {
     "data": {
      "text/plain": [
       "[('概率论', 4.7641532590181884e-07, True),\n",
       " ('概率-轮', 1.6419555972333708e-09, True),\n",
       " ('该-氯纶', 8.273427816729808e-12, True),\n",
       " ('该-率-轮', 6.59144271254014e-12, True)]"
      ]
     },
     "execution_count": 47,
     "metadata": {},
     "output_type": "execute_result"
    }
   ],
   "source": [
    "get_all_hangzi_by_pinyin('gailvlun', init_words_probability, transmission_probability,\n",
    "                              reverse_emit_pinyin_probability)"
   ]
  },
  {
   "cell_type": "code",
   "execution_count": 48,
   "id": "13dd3f73-d6f3-411f-b51b-67fe796710dd",
   "metadata": {},
   "outputs": [
    {
     "data": {
      "text/plain": [
       "[('随即', 3.0253073172075254e-05, True), ('岁-及', 3.401922974165271e-07, True)]"
      ]
     },
     "execution_count": 48,
     "metadata": {},
     "output_type": "execute_result"
    }
   ],
   "source": [
    "get_all_hangzi_by_pinyin('suiji', init_words_probability, transmission_probability,\n",
    "                              reverse_emit_pinyin_probability)"
   ]
  },
  {
   "cell_type": "code",
   "execution_count": 49,
   "id": "0647417f-a4c6-4716-b6e4-1b44c86d72fc",
   "metadata": {},
   "outputs": [
    {
     "data": {
      "text/plain": [
       "[('过程', 0.0002975277246658821, True),\n",
       " ('过-成', 6.418007454872767e-07, True),\n",
       " ('股-哦-成', 7.916073946007374e-11, True),\n",
       " (\"gu'o'cheng\", 1, False),\n",
       " (\"gu'o-cheng\", 1, False),\n",
       " (\"股-o'cheng\", 0.0004138486617353796, False)]"
      ]
     },
     "execution_count": 49,
     "metadata": {},
     "output_type": "execute_result"
    }
   ],
   "source": [
    "get_all_hangzi_by_pinyin('guocheng', init_words_probability, transmission_probability,\n",
    "                              reverse_emit_pinyin_probability)"
   ]
  },
  {
   "cell_type": "code",
   "execution_count": 50,
   "id": "f4ae07f7-33aa-4f16-98bd-7f3341ddd9b0",
   "metadata": {},
   "outputs": [
    {
     "data": {
      "text/plain": [
       "[('杭州-火车站', 1.1163515586734768e-06, True),\n",
       " ('航-州-火车站', 1.2200903104550078e-11, True),\n",
       " ('杭州-或-车站', 1.4115238495802154e-12, True),\n",
       " ('杭州-火车-占', 8.657306244382922e-13, True),\n",
       " ('杭州-或-车-占', 9.797344425229581e-15, True),\n",
       " ('杭州-湖-哦-车站', 1.1364299239399804e-15, True),\n",
       " ('航-周-火车-占', 1.2777384230502287e-16, True),\n",
       " ('杭州-湖-哦-车-占', 7.887925792602566e-18, True),\n",
       " ('航-周虎-哦-车站', 9.23490567486323e-21, True),\n",
       " ('航-周-和-车站', 1.3051541551689966e-21, True),\n",
       " ('航-周虎-哦-车-占', 6.40992014821784e-23, True),\n",
       " ('航-周-和-车-占', 9.0590355876828e-24, True),\n",
       " ('航-周-和-哦-车站', 8.909104492862172e-26, True),\n",
       " ('航-周-和-哦-车-占', 6.183782531403177e-28, True),\n",
       " (\"hang'zhou'huo'che-zhan\", 1, False),\n",
       " (\"hang'zhou'huo-che'zhan\", 1, False),\n",
       " (\"hang'zhou'huo-che-zhan\", 1, False),\n",
       " (\"hang'zhou'hu'o-che'zhan\", 1, False),\n",
       " (\"hang'zhou'hu'o-che-zhan\", 1, False),\n",
       " (\"hang'zhou'hu-o'che'zhan\", 1, False),\n",
       " (\"hang'zhou'hu-o'che-zhan\", 1, False),\n",
       " (\"hang'zhou'hu-o-che'zhan\", 1, False),\n",
       " (\"hang'zhou'hu-o-che-zhan\", 1, False),\n",
       " (\"杭州-hu'o'che'zhan\", 9.31678952835056e-05, False),\n",
       " (\"杭州-hu'o'che-zhan\", 9.31678952835056e-05, False),\n",
       " (\"杭州-hu'o-che'zhan\", 9.31678952835056e-05, False),\n",
       " (\"杭州-hu'o-che-zhan\", 9.31678952835056e-05, False),\n",
       " (\"航-zhou'huo'che'zhan\", 4.127421591418802e-05, False),\n",
       " (\"航-zhou'huo'che-zhan\", 4.127421591418802e-05, False),\n",
       " (\"航-zhou'huo-che'zhan\", 4.127421591418802e-05, False),\n",
       " (\"航-zhou'huo-che-zhan\", 4.127421591418802e-05, False),\n",
       " (\"航-zhou'hu'o'che-zhan\", 4.127421591418802e-05, False),\n",
       " (\"航-zhou'hu'o-che'zhan\", 4.127421591418802e-05, False),\n",
       " (\"航-zhou'hu'o-che-zhan\", 4.127421591418802e-05, False),\n",
       " (\"杭州-湖-o'che'zhan\", 1.534237168872104e-07, False),\n",
       " (\"杭州-湖-o'che-zhan\", 1.534237168872104e-07, False),\n",
       " (\"航-周-hu'o'che'zhan\", 1.3750720632725008e-08, False),\n",
       " (\"航-周-hu'o'che-zhan\", 1.3750720632725008e-08, False),\n",
       " (\"航-周-hu'o-che'zhan\", 1.3750720632725008e-08, False),\n",
       " (\"航-周-hu'o-che-zhan\", 1.3750720632725008e-08, False),\n",
       " (\"航-周虎-o'che'zhan\", 1.2467584000499613e-12, False),\n",
       " (\"航-周虎-o'che-zhan\", 1.2467584000499613e-12, False),\n",
       " (\"航-周-和-o'che'zhan\", 1.2027736129057178e-17, False),\n",
       " (\"航-周-和-o'che-zhan\", 1.2027736129057178e-17, False)]"
      ]
     },
     "execution_count": 50,
     "metadata": {},
     "output_type": "execute_result"
    }
   ],
   "source": [
    "get_all_hangzi_by_pinyin('hangzhouhuochezhan', init_words_probability, transmission_probability,\n",
    "                              reverse_emit_pinyin_probability)"
   ]
  },
  {
   "cell_type": "code",
   "execution_count": 51,
   "id": "0411b92c-af95-47bf-98ff-8d4198bd10d9",
   "metadata": {},
   "outputs": [
    {
     "data": {
      "text/plain": [
       "[('大家-兔年-大吉大利', 2.2215280590741e-15, True),\n",
       " ('大家-图-年-大吉大利', 2.0926630067755857e-15, True),\n",
       " ('大-家兔-年-大吉大利', 4.664401212895058e-17, True),\n",
       " ('大家-兔年-打击-大力', 3.18850330187041e-18, True),\n",
       " ('大家-图-年-打击-大力', 3.003546536156288e-18, True),\n",
       " ('大家-图-你-按-大吉大利', 7.2054703597592735e-19, True),\n",
       " ('打击-啊-兔年-大吉大利', 3.8601209725710834e-19, True),\n",
       " ('打击-啊-图-年-大吉大利', 3.63620541634971e-19, True),\n",
       " ('大-甲-兔年-大吉大利', 2.4074675554400197e-19, True),\n",
       " ('大-甲-图-年-大吉大利', 2.267816637608238e-19, True),\n",
       " ('大家-兔年-打击-达-里', 9.33745134412335e-20, True),\n",
       " ('大家-图-年-打击-达-里', 8.795810129698719e-20, True),\n",
       " ('大家-兔年-大-极大-里', 7.620522732160143e-20, True),\n",
       " ('大家-图-年-大-极大-里', 7.178476071344557e-20, True),\n",
       " ('大-家兔-年-打击-大力', 6.694697646431194e-20, True),\n",
       " ('大家-图-尼庵-大吉大利', 4.996495099906325e-20, True),\n",
       " ('大家-兔年-妲-己-大力', 3.615157532427428e-20, True),\n",
       " ('大家-图-年-妲-己-大力', 3.405451666872079e-20, True),\n",
       " ('打击-阿图-年-大吉大利', 2.1763960180900233e-20, True),\n",
       " ('大-家兔-你-按-大吉大利', 1.6060495443710373e-20, True),\n",
       " ('妲-己-啊-兔年-大吉大利', 4.376644490813394e-21, True),\n",
       " ('妲-己-啊-图-年-大吉大利', 4.1227667516162846e-21, True),\n",
       " ('大-家兔-年-打击-达-里', 1.960525287852094e-21, True),\n",
       " ('大-家兔-年-大-极大-里', 1.600032704047719e-21, True),\n",
       " ('大家-图尼-按-大吉大利', 1.2349440376940113e-21, True),\n",
       " ('大-家兔-尼庵-大吉大利', 1.113684225733845e-21, True),\n",
       " ('大家-兔年-妲-己-达-里', 1.0586897476499491e-21, True),\n",
       " ('大家-图-你-按-打击-大力', 1.0341830227972595e-21, True),\n",
       " ('大家-图-年-妲-己-达-里', 9.972779148614527e-22, True),\n",
       " ('大-家兔-年-妲-己-大力', 7.590516406121497e-22, True),\n",
       " ('打击-啊-兔年-打击-大力', 5.540334463203636e-22, True),\n",
       " ('打击-啊-图-年-打击-大力', 5.218954101863719e-22, True),\n",
       " ('大-甲-兔年-打击-大力', 3.4553775804505127e-22, True),\n",
       " ('大-甲-图-年-打击-大力', 3.2549401334432244e-22, True),\n",
       " ('妲-己-阿图-年-大吉大利', 2.4676199813648455e-22, True),\n",
       " ('打击-啊-图-你-按-大吉大利', 1.252020524311475e-22, True),\n",
       " ('大-甲-图-你-按-大吉大利', 7.808560437465338e-23, True),\n",
       " ('大家-图-尼庵-打击-大力', 7.17134364283951e-23, True),\n",
       " ('大家-图-你-安达-极大-里', 5.466637321205008e-23, True),\n",
       " ('大家-图-你-安达-及-大力', 5.333990679102847e-23, True),\n",
       " ('打击-阿图-年-打击-大力', 3.1237264195303073e-23, True),\n",
       " ('大家-图-你-按-打击-达-里', 3.02857884783219e-23, True),\n",
       " ('大家-图-你-按-大-极大-里', 2.471697372813608e-23, True),\n",
       " ('大-家兔-你-按-打击-大力', 2.3051224828233016e-23, True),\n",
       " ('大-家兔-年-妲-己-达-里', 2.22286354783929e-23, True),\n",
       " ('打击-啊-兔年-打击-达-里', 1.6224729467893854e-23, True),\n",
       " ('打击-啊-图-年-打击-达-里', 1.528357520118574e-23, True),\n",
       " ('打击-啊-兔年-大-极大-里', 1.3241399090239837e-23, True),\n",
       " ('打击-啊-图-年-大-极大-里', 1.2473300042694862e-23, True),\n",
       " ('大家-图-你-按-妲-己-大力', 1.1725672488972798e-23, True),\n",
       " ('大-甲-兔年-打击-达-里', 1.0118985924870981e-23, True),\n",
       " ('大-甲-图-年-打击-达-里', 9.532009926485478e-24, True),\n",
       " ('打击-啊-图-尼庵-大吉大利', 8.681895979533846e-24, True),\n",
       " ('大-甲-兔年-大-极大-里', 8.258352244632501e-24, True),\n",
       " ('大-甲-图-年-大-极大-里', 7.779306756299725e-24, True),\n",
       " ('打击-阿图-你-按-大吉大利', 7.493780388276095e-24, True),\n",
       " ('妲-己-啊-兔年-打击-大力', 6.2816876667709794e-24, True),\n",
       " ('打击-啊-兔年-妲-己-大力', 6.281687666770979e-24, True),\n",
       " ('打击-啊-图-年-妲-己-大力', 5.91730333842774e-24, True),\n",
       " ('妲-己-啊-图-年-打击-大力', 5.91730333842774e-24, True),\n",
       " ('大-甲-图-尼庵-大吉大利', 5.414696336967711e-24, True),\n",
       " ('大-甲-兔年-妲-己-大力', 3.917742308756195e-24, True),\n",
       " ('大-甲-图-年-妲-己-大力', 3.69048428901262e-24, True),\n",
       " ('大家-图-尼庵-打击-达-里', 2.1001098633870493e-24, True),\n",
       " ('大家-图尼-按-打击-大力', 1.7724840907270257e-24, True),\n",
       " ('大家-图-尼庵-大-极大-里', 1.713951094807796e-24, True),\n",
       " ('大-家兔-尼庵-打击-大力', 1.5984429350279528e-24, True),\n",
       " ('大家-图-你-安达-及-达-里', 1.5620456910586743e-24, True),\n",
       " ('妲-己-啊-图-你-按-大吉大利', 1.4195536277360038e-24, True),\n",
       " ('大-家兔-你-安达-极大-里', 1.218475677590093e-24, True),\n",
       " ('大-家兔-你-安达-及-大力', 1.1889096578198525e-24, True),\n",
       " ('打击-阿图-年-打击-达-里', 9.147753881141297e-25, True),\n",
       " ('大家-图-尼庵-妲-己-大力', 8.130942493560729e-25, True),\n",
       " ('打击-阿图-年-大-极大-里', 7.465705986603806e-25, True),\n",
       " ('大-家兔-你-按-打击-达-里', 6.75049293911071e-25, True),\n",
       " ('大-家兔-你-按-大-极大-里', 5.509242618774727e-25, True),\n",
       " ('打击-阿图-尼庵-大吉大利', 5.196418154587559e-25, True),\n",
       " ('打击-阿图-年-妲-己-大力', 3.541712843196084e-25, True),\n",
       " ('妲-己-阿图-年-打击-大力', 3.541712843196084e-25, True),\n",
       " ('大家-图-你-按-妲-己-达-里', 3.433833556913128e-25, True),\n",
       " ('大-家兔-你-按-妲-己-大力', 2.6135713587180617e-25, True),\n",
       " ('打击-啊-图尼-按-大吉大利', 2.145835322845797e-25, True),\n",
       " ('妲-己-啊-兔年-打击-达-里', 1.8395763590097624e-25, True),\n",
       " ('打击-啊-兔年-妲-己-达-里', 1.8395763590097621e-25, True),\n",
       " ('打击-啊-图-你-按-打击-大力', 1.7969935421119537e-25, True),\n",
       " ('打击-啊-图-年-妲-己-达-里', 1.7328673292756496e-25, True),\n",
       " ('妲-己-啊-图-年-打击-达-里', 1.7328673292756496e-25, True),\n",
       " ('妲-己-啊-兔年-大-极大-里', 1.5013233209724875e-25, True),\n",
       " ('妲-己-啊-图-年-大-极大-里', 1.4142354683190603e-25, True),\n",
       " ('大-甲-图尼-按-大吉大利', 1.3383075182816136e-25, True),\n",
       " ('大-甲-兔年-妲-己-达-里', 1.1473009347478241e-25, True),\n",
       " ('大-甲-图-你-按-打击-大力', 1.1207430235245303e-25, True),\n",
       " ('大-甲-图-年-妲-己-达-里', 1.0807489979606592e-25, True),\n",
       " ('妲-己-啊-图-尼庵-大吉大利', 9.843622124446784e-26, True),\n",
       " ('大家-图尼-安达-极大-里', 9.369258117777102e-26, True),\n",
       " ('大家-图尼-安达-及-大力', 9.141915319034859e-26, True),\n",
       " ('妲-己-阿图-你-按-大吉大利', 8.496524560956635e-26, True),\n",
       " ('妲-己-啊-兔年-妲-己-大力', 7.12224148288072e-26, True),\n",
       " ('妲-己-啊-图-年-妲-己-大力', 6.70909881856677e-26, True),\n",
       " ('大家-图尼-按-打击-达-里', 5.190674867950624e-26, True),\n",
       " ('大-家兔-尼庵-打击-达-里', 4.6809997416110056e-26, True),\n",
       " ('大家-图尼-按-大-极大-里', 4.2362368882773316e-26, True),\n",
       " ('大-家兔-尼庵-大-极大-里', 3.820278534852325e-26, True),\n",
       " ('大-家兔-你-安达-及-达-里', 3.4816918884603384e-26, True),\n",
       " ('大家-图-尼庵-妲-己-达-里', 2.381125961856507e-26, True),\n",
       " ('大家-图尼-按-妲-己-大力', 2.0096605225218678e-26, True),\n",
       " ('大-家兔-尼庵-妲-己-大力', 1.81233088682452e-26, True),\n",
       " ('打击-啊-图-尼庵-打击-大力', 1.2460906754775206e-26, True),\n",
       " ('打击-阿图-你-按-打击-大力', 1.075563435443111e-26, True),\n",
       " ('打击-阿图-年-妲-己-达-里', 1.0371816560077154e-26, True),\n",
       " ('妲-己-阿图-年-打击-达-里', 1.0371816560077154e-26, True),\n",
       " ('打击-啊-图-你-安达-极大-里', 9.498813794779714e-27, True),\n",
       " ('打击-啊-图-你-安达-及-大力', 9.268327358640306e-27, True),\n",
       " ('妲-己-阿图-年-大-极大-里', 8.464693518280769e-27, True),\n",
       " ('大-甲-图-尼庵-打击-大力', 7.771577351241228e-27, True),\n",
       " ('大-家兔-你-按-妲-己-达-里', 7.653777677479133e-27, True),\n",
       " ('大-甲-图-你-安达-极大-里', 5.9241889538157834e-27, True),\n",
       " ('妲-己-阿图-尼庵-大吉大利', 5.891751851779441e-27, True),\n",
       " ('大-甲-图-你-安达-及-大力', 5.7804399312028915e-27, True),\n",
       " ('打击-啊-图-你-按-打击-达-里', 5.262450176962746e-27, True),\n",
       " ('打击-啊-图-你-按-大-极大-里', 4.2948144758627204e-27, True),\n",
       " ('妲-己-阿图-年-妲-己-大力', 4.015630109357081e-27, True),\n",
       " ('大-甲-图-你-按-打击-达-里', 3.282067622538506e-27, True),\n",
       " ('大-甲-图-你-按-大-极大-里', 2.678575770226908e-27, True),\n",
       " ('大家-图尼-安达-及-达-里', 2.677186799007218e-27, True),\n",
       " ('妲-己-啊-图尼-按-大吉大利', 2.432969953703411e-27, True),\n",
       " ('妲-己-啊-兔年-妲-己-达-里', 2.0857304199272414e-27, True),\n",
       " ('打击-啊-图-你-按-妲-己-大力', 2.0374495882374053e-27, True),\n",
       " ('妲-己-啊-图-你-按-打击-大力', 2.0374495882374053e-27, True),\n",
       " ('妲-己-啊-图-年-妲-己-达-里', 1.9647426347193655e-27, True),\n",
       " ('大-甲-图-你-按-妲-己-大力', 1.2707098597117488e-27, True),\n",
       " ('打击-阿图-尼庵-打击-大力', 7.458288170669068e-28, True),\n",
       " ('大家-图尼-按-妲-己-达-里', 5.885240054870144e-28, True),\n",
       " ('打击-阿图-你-安达-极大-里', 5.685372016273603e-28, True),\n",
       " ('打击-阿图-你-安达-及-大力', 5.547417829312092e-28, True),\n",
       " ('大-家兔-尼庵-妲-己-达-里', 5.307365203369532e-28, True),\n",
       " ('打击-啊-图-尼庵-打击-达-里', 3.6491450536719687e-28, True),\n",
       " ('打击-阿图-你-按-打击-达-里', 3.1497603405575463e-28, True),\n",
       " ('打击-啊-图尼-按-打击-大力', 3.0798634229340444e-28, True),\n",
       " ('打击-啊-图-尼庵-大-极大-里', 2.9781566521316944e-28, True),\n",
       " ('打击-啊-图-你-安达-及-达-里', 2.714206245354814e-28, True),\n",
       " ('打击-阿图-你-按-大-极大-里', 2.5705965569696655e-28, True),\n",
       " ('大-甲-图-尼庵-打击-达-里', 2.2758867880656596e-28, True),\n",
       " ('大-甲-图尼-按-打击-大力', 1.920839092501683e-28, True),\n",
       " ('大-甲-图-尼庵-大-极大-里', 1.857406948116803e-28, True),\n",
       " ('大-甲-图-你-安达-及-达-里', 1.6927872263319489e-28, True),\n",
       " ('打击-啊-图-尼庵-妲-己-大力', 1.4128303047067786e-28, True),\n",
       " ('妲-己-啊-图-尼庵-打击-大力', 1.4128303047067786e-28, True),\n",
       " ('妲-己-阿图-你-按-打击-大力', 1.2194847823945324e-28, True),\n",
       " ('打击-阿图-你-按-妲-己-大力', 1.2194847823945322e-28, True),\n",
       " ('妲-己-阿图-年-妲-己-达-里', 1.1759671297854093e-28, True),\n",
       " ('妲-己-啊-图-你-安达-极大-里', 1.0769851867231689e-28, True),\n",
       " ('妲-己-啊-图-你-安达-及-大力', 1.0508523997430538e-28, True),\n",
       " ('大-甲-图-尼庵-妲-己-大力', 8.81149358813617e-29, True),\n",
       " ('打击-啊-图-你-按-妲-己-达-里', 5.966619631571622e-29, True),\n",
       " ('妲-己-啊-图-你-按-打击-达-里', 5.966619631571622e-29, True),\n",
       " ('妲-己-啊-图-你-按-大-极大-里', 4.869504414088422e-29, True),\n",
       " ('大-甲-图-你-按-妲-己-达-里', 3.721241712560252e-29, True),\n",
       " ('妲-己-啊-图-你-按-妲-己-大力', 2.3100811034245502e-29, True),\n",
       " ('打击-阿图-尼庵-打击-达-里', 2.1841408432357832e-29, True),\n",
       " ('打击-阿图-尼庵-大-极大-里', 1.7825308355253728e-29, True),\n",
       " ('打击-啊-图尼-安达-极大-里', 1.6279996829271162e-29, True),\n",
       " ('打击-阿图-你-安达-及-达-里', 1.6245472926541533e-29, True),\n",
       " ('打击-啊-图尼-安达-及-大力', 1.5884966614908849e-29, True),\n",
       " ('大-甲-图尼-安达-极大-里', 1.015345489108631e-29, True),\n",
       " ('大-甲-图尼-安达-及-大力', 9.907083745919232e-30, True),\n",
       " ('打击-啊-图尼-按-打击-达-里', 9.019302204053557e-30, True),\n",
       " ('打击-阿图-尼庵-妲-己-大力', 8.456283122991262e-30, True),\n",
       " ('妲-己-阿图-尼庵-打击-大力', 8.456283122991262e-30, True),\n",
       " ('打击-啊-图尼-按-大-极大-里', 7.360873426930304e-30, True),\n",
       " ('妲-己-阿图-你-安达-极大-里', 6.446132722279673e-30, True),\n",
       " ('妲-己-阿图-你-安达-及-大力', 6.2897188594396226e-30, True),\n",
       " ('大-甲-图尼-按-打击-达-里', 5.6251287416272135e-30, True),\n",
       " ('大-甲-图尼-按-大-极大-里', 4.590805335106363e-30, True),\n",
       " ('打击-啊-图-尼庵-妲-己-达-里', 4.1374378442587174e-30, True),\n",
       " ('妲-己-啊-图-尼庵-打击-达-里', 4.1374378442587174e-30, True),\n",
       " ('妲-己-阿图-你-按-打击-达-里', 3.5712303681254246e-30, True),\n",
       " ('打击-阿图-你-按-妲-己-达-里', 3.571230368125424e-30, True),\n",
       " ('打击-啊-图尼-按-妲-己-大力', 3.491980530719945e-30, True),\n",
       " ('妲-己-啊-图尼-按-打击-大力', 3.491980530719945e-30, True),\n",
       " ('妲-己-啊-图-尼庵-大-极大-里', 3.376664357658655e-30, True),\n",
       " ('妲-己-啊-图-你-安达-及-达-里', 3.0773946969727258e-30, True),\n",
       " ('妲-己-阿图-你-按-大-极大-里', 2.9145685689926875e-30, True),\n",
       " ('大-甲-图-尼庵-妲-己-达-里', 2.580423630109207e-30, True),\n",
       " ('大-甲-图尼-按-妲-己-大力', 2.1778669351745757e-30, True),\n",
       " ('妲-己-啊-图-尼庵-妲-己-大力', 1.6018813952948627e-30, True),\n",
       " ('妲-己-阿图-你-按-妲-己-大力', 1.3826642720326079e-30, True),\n",
       " ('妲-己-啊-图-你-按-妲-己-达-里', 6.76501413423413e-31, True),\n",
       " ('打击-啊-图尼-安达-及-达-里', 4.651872330906042e-31, True),\n",
       " ('大-甲-图尼-安达-及-达-里', 2.901264439193479e-31, True),\n",
       " ('打击-阿图-尼庵-妲-己-达-里', 2.4764011430298192e-31, True),\n",
       " ('妲-己-阿图-尼庵-打击-达-里', 2.4764011430298192e-31, True),\n",
       " ('妲-己-阿图-尼庵-大-极大-里', 2.021051624144003e-31, True),\n",
       " ('妲-己-啊-图尼-安达-极大-里', 1.8458426287565535e-31, True),\n",
       " ('妲-己-阿图-你-安达-及-达-里', 1.8419282734874658e-31, True),\n",
       " ('妲-己-啊-图尼-安达-及-大力', 1.8010537005421587e-31, True),\n",
       " ('打击-啊-图尼-按-妲-己-达-里', 1.0226176739756353e-31, True),\n",
       " ('妲-己-啊-图尼-按-打击-达-里', 1.0226176739756353e-31, True),\n",
       " ('妲-己-阿图-尼庵-妲-己-大力', 9.587819968851106e-32, True),\n",
       " ('妲-己-啊-图尼-按-大-极大-里', 8.345833293947619e-32, True),\n",
       " ('大-甲-图尼-按-妲-己-达-里', 6.377828283645962e-32, True),\n",
       " ('妲-己-啊-图-尼庵-妲-己-达-里', 4.6910691856106846e-32, True),\n",
       " ('妲-己-阿图-你-按-妲-己-达-里', 4.049097379886273e-32, True),\n",
       " ('妲-己-啊-图尼-按-妲-己-大力', 3.959243106731842e-32, True),\n",
       " ('妲-己-啊-图尼-安达-及-达-里', 5.274340248322946e-33, True),\n",
       " ('妲-己-阿图-尼庵-妲-己-达-里', 2.807768848877925e-33, True),\n",
       " ('妲-己-啊-图尼-按-妲-己-达-里', 1.1594543385599692e-33, True),\n",
       " (\"da'jia'tu'nian-da'ji'da'li\", 1, False),\n",
       " (\"da'jia'tu'nian-da'ji'da-li\", 1, False),\n",
       " (\"da'jia'tu'nian-da'ji-da'li\", 1, False),\n",
       " (\"da'jia'tu'nian-da'ji-da-li\", 1, False),\n",
       " (\"da'jia'tu'nian-da-ji'da'li\", 1, False),\n",
       " (\"da'jia'tu'nian-da-ji'da-li\", 1, False),\n",
       " (\"da'jia'tu'nian-da-ji-da'li\", 1, False),\n",
       " (\"da'jia'tu'nian-da-ji-da-li\", 1, False),\n",
       " (\"da'jia'tu-nian'da'ji'da-li\", 1, False),\n",
       " (\"da'jia'tu-nian'da'ji-da'li\", 1, False),\n",
       " (\"da'jia'tu-nian'da'ji-da-li\", 1, False),\n",
       " (\"da'jia'tu-nian'da-ji'da'li\", 1, False),\n",
       " (\"da'jia'tu-nian'da-ji'da-li\", 1, False),\n",
       " (\"da'jia'tu-nian'da-ji-da'li\", 1, False),\n",
       " (\"da'jia'tu-nian'da-ji-da-li\", 1, False),\n",
       " (\"da'jia'tu-nian-da'ji'da'li\", 1, False),\n",
       " (\"da'jia'tu-nian-da'ji'da-li\", 1, False),\n",
       " (\"da'jia'tu-nian-da'ji-da'li\", 1, False),\n",
       " (\"da'jia'tu-nian-da'ji-da-li\", 1, False),\n",
       " (\"da'jia'tu-nian-da-ji'da'li\", 1, False),\n",
       " (\"da'jia'tu-nian-da-ji'da-li\", 1, False),\n",
       " (\"da'jia'tu-nian-da-ji-da'li\", 1, False),\n",
       " (\"da'jia'tu-nian-da-ji-da-li\", 1, False),\n",
       " (\"da'jia'tu'ni-an'da'ji'da-li\", 1, False),\n",
       " (\"da'jia'tu'ni-an'da'ji-da'li\", 1, False),\n",
       " (\"da'jia'tu'ni-an'da'ji-da-li\", 1, False),\n",
       " (\"da'jia'tu'ni-an'da-ji'da'li\", 1, False),\n",
       " (\"da'jia'tu'ni-an'da-ji'da-li\", 1, False),\n",
       " (\"da'jia'tu'ni-an'da-ji-da'li\", 1, False),\n",
       " (\"da'jia'tu'ni-an'da-ji-da-li\", 1, False),\n",
       " (\"da'jia'tu'ni-an-da'ji'da'li\", 1, False),\n",
       " (\"da'jia'tu'ni-an-da'ji'da-li\", 1, False),\n",
       " (\"da'jia'tu'ni-an-da'ji-da'li\", 1, False),\n",
       " (\"da'jia'tu'ni-an-da'ji-da-li\", 1, False),\n",
       " (\"da'jia'tu'ni-an-da-ji'da'li\", 1, False),\n",
       " (\"da'jia'tu'ni-an-da-ji'da-li\", 1, False),\n",
       " (\"da'jia'tu'ni-an-da-ji-da'li\", 1, False),\n",
       " (\"da'jia'tu'ni-an-da-ji-da-li\", 1, False),\n",
       " (\"da'jia'tu-ni'an'da'ji-da'li\", 1, False),\n",
       " (\"da'jia'tu-ni'an'da'ji-da-li\", 1, False),\n",
       " (\"da'jia'tu-ni'an'da-ji'da'li\", 1, False),\n",
       " (\"da'jia'tu-ni'an'da-ji'da-li\", 1, False),\n",
       " (\"da'jia'tu-ni'an'da-ji-da'li\", 1, False),\n",
       " (\"da'jia'tu-ni'an'da-ji-da-li\", 1, False),\n",
       " (\"da'jia'tu-ni'an-da'ji'da'li\", 1, False),\n",
       " (\"da'jia'tu-ni'an-da'ji'da-li\", 1, False),\n",
       " (\"da'jia'tu-ni'an-da'ji-da'li\", 1, False),\n",
       " (\"da'jia'tu-ni'an-da'ji-da-li\", 1, False),\n",
       " (\"da'jia'tu-ni'an-da-ji'da'li\", 1, False),\n",
       " (\"da'jia'tu-ni'an-da-ji'da-li\", 1, False),\n",
       " (\"da'jia'tu-ni'an-da-ji-da'li\", 1, False),\n",
       " (\"da'jia'tu-ni'an-da-ji-da-li\", 1, False),\n",
       " (\"da'jia'tu-ni-an'da'ji'da-li\", 1, False),\n",
       " (\"da'jia'tu-ni-an'da'ji-da'li\", 1, False),\n",
       " (\"da'jia'tu-ni-an'da'ji-da-li\", 1, False),\n",
       " (\"da'jia'tu-ni-an'da-ji'da'li\", 1, False),\n",
       " (\"da'jia'tu-ni-an'da-ji'da-li\", 1, False),\n",
       " (\"da'jia'tu-ni-an'da-ji-da'li\", 1, False),\n",
       " (\"da'jia'tu-ni-an'da-ji-da-li\", 1, False),\n",
       " (\"da'jia'tu-ni-an-da'ji'da'li\", 1, False),\n",
       " (\"da'jia'tu-ni-an-da'ji'da-li\", 1, False),\n",
       " (\"da'jia'tu-ni-an-da'ji-da'li\", 1, False),\n",
       " (\"da'jia'tu-ni-an-da'ji-da-li\", 1, False),\n",
       " (\"da'jia'tu-ni-an-da-ji'da'li\", 1, False),\n",
       " (\"da'jia'tu-ni-an-da-ji'da-li\", 1, False),\n",
       " (\"da'jia'tu-ni-an-da-ji-da'li\", 1, False),\n",
       " (\"da'jia'tu-ni-an-da-ji-da-li\", 1, False),\n",
       " (\"da'ji'a'tu-nian'da'ji'da-li\", 1, False),\n",
       " (\"da'ji'a'tu-nian'da'ji-da'li\", 1, False),\n",
       " (\"da'ji'a'tu-nian'da'ji-da-li\", 1, False),\n",
       " (\"da'ji'a'tu-nian'da-ji'da'li\", 1, False),\n",
       " (\"da'ji'a'tu-nian'da-ji'da-li\", 1, False),\n",
       " (\"da'ji'a'tu-nian'da-ji-da'li\", 1, False),\n",
       " (\"da'ji'a'tu-nian'da-ji-da-li\", 1, False),\n",
       " (\"da'ji'a'tu-nian-da'ji'da'li\", 1, False),\n",
       " (\"da'ji'a'tu-nian-da'ji'da-li\", 1, False),\n",
       " (\"da'ji'a'tu-nian-da'ji-da'li\", 1, False),\n",
       " (\"da'ji'a'tu-nian-da'ji-da-li\", 1, False),\n",
       " (\"da'ji'a'tu-nian-da-ji'da'li\", 1, False),\n",
       " (\"da'ji'a'tu-nian-da-ji'da-li\", 1, False),\n",
       " (\"da'ji'a'tu-nian-da-ji-da'li\", 1, False),\n",
       " (\"da'ji'a'tu-nian-da-ji-da-li\", 1, False),\n",
       " (\"da'ji'a-tu'nian'da'ji-da'li\", 1, False),\n",
       " (\"da'ji'a-tu'nian'da'ji-da-li\", 1, False),\n",
       " (\"da'ji'a-tu'nian'da-ji'da'li\", 1, False),\n",
       " (\"da'ji'a-tu'nian'da-ji'da-li\", 1, False),\n",
       " (\"da'ji'a-tu'nian'da-ji-da'li\", 1, False),\n",
       " (\"da'ji'a-tu'nian'da-ji-da-li\", 1, False),\n",
       " (\"da'ji'a-tu'nian-da'ji'da'li\", 1, False),\n",
       " (\"da'ji'a-tu'nian-da'ji'da-li\", 1, False),\n",
       " (\"da'ji'a-tu'nian-da'ji-da'li\", 1, False),\n",
       " (\"da'ji'a-tu'nian-da'ji-da-li\", 1, False),\n",
       " (\"da'ji'a-tu'nian-da-ji'da'li\", 1, False),\n",
       " (\"da'ji'a-tu'nian-da-ji'da-li\", 1, False),\n",
       " (\"da'ji'a-tu'nian-da-ji-da'li\", 1, False),\n",
       " (\"da'ji'a-tu'nian-da-ji-da-li\", 1, False),\n",
       " (\"da'ji'a-tu-nian'da'ji'da-li\", 1, False),\n",
       " (\"da'ji'a-tu-nian'da'ji-da'li\", 1, False),\n",
       " (\"da'ji'a-tu-nian'da'ji-da-li\", 1, False),\n",
       " (\"da'ji'a-tu-nian'da-ji'da'li\", 1, False),\n",
       " (\"da'ji'a-tu-nian'da-ji'da-li\", 1, False),\n",
       " (\"da'ji'a-tu-nian'da-ji-da'li\", 1, False),\n",
       " (\"da'ji'a-tu-nian'da-ji-da-li\", 1, False),\n",
       " (\"da'ji'a-tu-nian-da'ji'da'li\", 1, False),\n",
       " (\"da'ji'a-tu-nian-da'ji'da-li\", 1, False),\n",
       " (\"da'ji'a-tu-nian-da'ji-da'li\", 1, False),\n",
       " (\"da'ji'a-tu-nian-da'ji-da-li\", 1, False),\n",
       " (\"da'ji'a-tu-nian-da-ji'da'li\", 1, False),\n",
       " (\"da'ji'a-tu-nian-da-ji'da-li\", 1, False),\n",
       " (\"da'ji'a-tu-nian-da-ji-da'li\", 1, False),\n",
       " (\"da'ji'a-tu-nian-da-ji-da-li\", 1, False),\n",
       " (\"da'ji'a'tu-ni'an'da'ji-da'li\", 1, False),\n",
       " (\"da'ji'a'tu-ni'an'da'ji-da-li\", 1, False),\n",
       " (\"da'ji'a'tu-ni'an'da-ji'da'li\", 1, False),\n",
       " (\"da'ji'a'tu-ni'an'da-ji'da-li\", 1, False),\n",
       " (\"da'ji'a'tu-ni'an'da-ji-da'li\", 1, False),\n",
       " (\"da'ji'a'tu-ni'an'da-ji-da-li\", 1, False),\n",
       " (\"da'ji'a'tu-ni'an-da'ji'da'li\", 1, False),\n",
       " (\"da'ji'a'tu-ni'an-da'ji'da-li\", 1, False),\n",
       " (\"da'ji'a'tu-ni'an-da'ji-da'li\", 1, False),\n",
       " (\"da'ji'a'tu-ni'an-da'ji-da-li\", 1, False),\n",
       " (\"da'ji'a'tu-ni'an-da-ji'da'li\", 1, False),\n",
       " (\"da'ji'a'tu-ni'an-da-ji'da-li\", 1, False),\n",
       " (\"da'ji'a'tu-ni'an-da-ji-da'li\", 1, False),\n",
       " (\"da'ji'a'tu-ni'an-da-ji-da-li\", 1, False),\n",
       " (\"da'ji'a'tu-ni-an'da'ji'da-li\", 1, False),\n",
       " (\"da'ji'a'tu-ni-an'da'ji-da'li\", 1, False),\n",
       " (\"da'ji'a'tu-ni-an'da'ji-da-li\", 1, False),\n",
       " (\"da'ji'a'tu-ni-an'da-ji'da'li\", 1, False),\n",
       " (\"da'ji'a'tu-ni-an'da-ji'da-li\", 1, False),\n",
       " (\"da'ji'a'tu-ni-an'da-ji-da'li\", 1, False),\n",
       " (\"da'ji'a'tu-ni-an'da-ji-da-li\", 1, False),\n",
       " (\"da'ji'a'tu-ni-an-da'ji'da'li\", 1, False),\n",
       " (\"da'ji'a'tu-ni-an-da'ji'da-li\", 1, False),\n",
       " (\"da'ji'a'tu-ni-an-da'ji-da'li\", 1, False),\n",
       " (\"da'ji'a'tu-ni-an-da'ji-da-li\", 1, False),\n",
       " (\"da'ji'a'tu-ni-an-da-ji'da'li\", 1, False),\n",
       " (\"da'ji'a'tu-ni-an-da-ji'da-li\", 1, False),\n",
       " (\"da'ji'a'tu-ni-an-da-ji-da'li\", 1, False),\n",
       " (\"da'ji'a'tu-ni-an-da-ji-da-li\", 1, False),\n",
       " (\"da'ji'a-tu'ni'an'da-ji'da'li\", 1, False),\n",
       " (\"da'ji'a-tu'ni'an'da-ji'da-li\", 1, False),\n",
       " (\"da'ji'a-tu'ni'an'da-ji-da'li\", 1, False),\n",
       " (\"da'ji'a-tu'ni'an'da-ji-da-li\", 1, False),\n",
       " (\"da'ji'a-tu'ni'an-da'ji'da'li\", 1, False),\n",
       " (\"da'ji'a-tu'ni'an-da'ji'da-li\", 1, False),\n",
       " (\"da'ji'a-tu'ni'an-da'ji-da'li\", 1, False),\n",
       " (\"da'ji'a-tu'ni'an-da'ji-da-li\", 1, False),\n",
       " (\"da'ji'a-tu'ni'an-da-ji'da'li\", 1, False),\n",
       " (\"da'ji'a-tu'ni'an-da-ji'da-li\", 1, False),\n",
       " (\"da'ji'a-tu'ni'an-da-ji-da'li\", 1, False),\n",
       " (\"da'ji'a-tu'ni'an-da-ji-da-li\", 1, False),\n",
       " (\"da'ji'a-tu'ni-an'da'ji'da-li\", 1, False),\n",
       " (\"da'ji'a-tu'ni-an'da'ji-da'li\", 1, False),\n",
       " (\"da'ji'a-tu'ni-an'da'ji-da-li\", 1, False),\n",
       " (\"da'ji'a-tu'ni-an'da-ji'da'li\", 1, False),\n",
       " (\"da'ji'a-tu'ni-an'da-ji'da-li\", 1, False),\n",
       " (\"da'ji'a-tu'ni-an'da-ji-da'li\", 1, False),\n",
       " (\"da'ji'a-tu'ni-an'da-ji-da-li\", 1, False),\n",
       " (\"da'ji'a-tu'ni-an-da'ji'da'li\", 1, False),\n",
       " (\"da'ji'a-tu'ni-an-da'ji'da-li\", 1, False),\n",
       " (\"da'ji'a-tu'ni-an-da'ji-da'li\", 1, False),\n",
       " (\"da'ji'a-tu'ni-an-da'ji-da-li\", 1, False),\n",
       " (\"da'ji'a-tu'ni-an-da-ji'da'li\", 1, False),\n",
       " (\"da'ji'a-tu'ni-an-da-ji'da-li\", 1, False),\n",
       " (\"da'ji'a-tu'ni-an-da-ji-da'li\", 1, False),\n",
       " (\"da'ji'a-tu'ni-an-da-ji-da-li\", 1, False),\n",
       " (\"da'ji'a-tu-ni'an'da'ji-da'li\", 1, False),\n",
       " (\"da'ji'a-tu-ni'an'da'ji-da-li\", 1, False),\n",
       " (\"da'ji'a-tu-ni'an'da-ji'da'li\", 1, False),\n",
       " (\"da'ji'a-tu-ni'an'da-ji'da-li\", 1, False),\n",
       " (\"da'ji'a-tu-ni'an'da-ji-da'li\", 1, False),\n",
       " (\"da'ji'a-tu-ni'an'da-ji-da-li\", 1, False),\n",
       " (\"da'ji'a-tu-ni'an-da'ji'da'li\", 1, False),\n",
       " (\"da'ji'a-tu-ni'an-da'ji'da-li\", 1, False),\n",
       " (\"da'ji'a-tu-ni'an-da'ji-da'li\", 1, False),\n",
       " (\"da'ji'a-tu-ni'an-da'ji-da-li\", 1, False),\n",
       " (\"da'ji'a-tu-ni'an-da-ji'da'li\", 1, False),\n",
       " (\"da'ji'a-tu-ni'an-da-ji'da-li\", 1, False),\n",
       " (\"da'ji'a-tu-ni'an-da-ji-da'li\", 1, False),\n",
       " (\"da'ji'a-tu-ni'an-da-ji-da-li\", 1, False),\n",
       " (\"da'ji'a-tu-ni-an'da'ji'da-li\", 1, False),\n",
       " (\"da'ji'a-tu-ni-an'da'ji-da'li\", 1, False),\n",
       " (\"da'ji'a-tu-ni-an'da'ji-da-li\", 1, False),\n",
       " (\"da'ji'a-tu-ni-an'da-ji'da'li\", 1, False),\n",
       " (\"da'ji'a-tu-ni-an'da-ji'da-li\", 1, False),\n",
       " (\"da'ji'a-tu-ni-an'da-ji-da'li\", 1, False),\n",
       " (\"da'ji'a-tu-ni-an'da-ji-da-li\", 1, False),\n",
       " (\"da'ji'a-tu-ni-an-da'ji'da'li\", 1, False),\n",
       " (\"da'ji'a-tu-ni-an-da'ji'da-li\", 1, False),\n",
       " (\"da'ji'a-tu-ni-an-da'ji-da'li\", 1, False),\n",
       " (\"da'ji'a-tu-ni-an-da'ji-da-li\", 1, False),\n",
       " (\"da'ji'a-tu-ni-an-da-ji'da'li\", 1, False),\n",
       " (\"da'ji'a-tu-ni-an-da-ji'da-li\", 1, False),\n",
       " (\"da'ji'a-tu-ni-an-da-ji-da'li\", 1, False),\n",
       " (\"da'ji'a-tu-ni-an-da-ji-da-li\", 1, False),\n",
       " (\"大-jia'tu'nian'da-ji'da'li\", 0.0021477799013210185, False),\n",
       " (\"大-jia'tu'nian'da-ji'da-li\", 0.0021477799013210185, False),\n",
       " (\"大-jia'tu'nian'da-ji-da'li\", 0.0021477799013210185, False),\n",
       " (\"大-jia'tu'nian'da-ji-da-li\", 0.0021477799013210185, False),\n",
       " (\"大-jia'tu'nian-da'ji'da'li\", 0.0021477799013210185, False),\n",
       " (\"大-jia'tu'nian-da'ji'da-li\", 0.0021477799013210185, False),\n",
       " (\"大-jia'tu'nian-da'ji-da'li\", 0.0021477799013210185, False),\n",
       " (\"大-jia'tu'nian-da'ji-da-li\", 0.0021477799013210185, False),\n",
       " (\"大-jia'tu'nian-da-ji'da'li\", 0.0021477799013210185, False),\n",
       " (\"大-jia'tu'nian-da-ji'da-li\", 0.0021477799013210185, False),\n",
       " (\"大-jia'tu'nian-da-ji-da'li\", 0.0021477799013210185, False),\n",
       " (\"大-jia'tu'nian-da-ji-da-li\", 0.0021477799013210185, False),\n",
       " (\"大-jia'tu'ni'an-da'ji'da'li\", 0.0021477799013210185, False),\n",
       " (\"大-jia'tu'ni'an-da'ji'da-li\", 0.0021477799013210185, False),\n",
       " (\"大-jia'tu'ni'an-da'ji-da'li\", 0.0021477799013210185, False),\n",
       " (\"大-jia'tu'ni'an-da'ji-da-li\", 0.0021477799013210185, False),\n",
       " (\"大-jia'tu'ni'an-da-ji'da'li\", 0.0021477799013210185, False),\n",
       " (\"大-jia'tu'ni'an-da-ji'da-li\", 0.0021477799013210185, False),\n",
       " (\"大-jia'tu'ni'an-da-ji-da'li\", 0.0021477799013210185, False),\n",
       " (\"大-jia'tu'ni'an-da-ji-da-li\", 0.0021477799013210185, False),\n",
       " (\"大-jia'tu'ni-an'da'ji'da-li\", 0.0021477799013210185, False),\n",
       " (\"大-jia'tu'ni-an'da'ji-da'li\", 0.0021477799013210185, False),\n",
       " (\"大-jia'tu'ni-an'da'ji-da-li\", 0.0021477799013210185, False),\n",
       " (\"大-jia'tu'ni-an'da-ji'da'li\", 0.0021477799013210185, False),\n",
       " (\"大-jia'tu'ni-an'da-ji'da-li\", 0.0021477799013210185, False),\n",
       " (\"大-jia'tu'ni-an'da-ji-da'li\", 0.0021477799013210185, False),\n",
       " (\"大-jia'tu'ni-an'da-ji-da-li\", 0.0021477799013210185, False),\n",
       " (\"大-jia'tu'ni-an-da'ji'da'li\", 0.0021477799013210185, False),\n",
       " (\"大-jia'tu'ni-an-da'ji'da-li\", 0.0021477799013210185, False),\n",
       " (\"大-jia'tu'ni-an-da'ji-da'li\", 0.0021477799013210185, False),\n",
       " (\"大-jia'tu'ni-an-da'ji-da-li\", 0.0021477799013210185, False),\n",
       " (\"大-jia'tu'ni-an-da-ji'da'li\", 0.0021477799013210185, False),\n",
       " (\"大-jia'tu'ni-an-da-ji'da-li\", 0.0021477799013210185, False),\n",
       " (\"大-jia'tu'ni-an-da-ji-da'li\", 0.0021477799013210185, False),\n",
       " (\"大-jia'tu'ni-an-da-ji-da-li\", 0.0021477799013210185, False),\n",
       " (\"大-ji'a'tu'nian-da'ji'da'li\", 0.0021477799013210185, False),\n",
       " (\"大-ji'a'tu'nian-da'ji'da-li\", 0.0021477799013210185, False),\n",
       " (\"大-ji'a'tu'nian-da'ji-da'li\", 0.0021477799013210185, False),\n",
       " (\"大-ji'a'tu'nian-da'ji-da-li\", 0.0021477799013210185, False),\n",
       " (\"大-ji'a'tu'nian-da-ji'da'li\", 0.0021477799013210185, False),\n",
       " (\"大-ji'a'tu'nian-da-ji'da-li\", 0.0021477799013210185, False),\n",
       " (\"大-ji'a'tu'nian-da-ji-da'li\", 0.0021477799013210185, False),\n",
       " (\"大-ji'a'tu'nian-da-ji-da-li\", 0.0021477799013210185, False),\n",
       " (\"大-ji'a'tu-nian'da'ji'da-li\", 0.0021477799013210185, False),\n",
       " (\"大-ji'a'tu-nian'da'ji-da'li\", 0.0021477799013210185, False),\n",
       " (\"大-ji'a'tu-nian'da'ji-da-li\", 0.0021477799013210185, False),\n",
       " (\"大-ji'a'tu-nian'da-ji'da'li\", 0.0021477799013210185, False),\n",
       " (\"大-ji'a'tu-nian'da-ji'da-li\", 0.0021477799013210185, False),\n",
       " (\"大-ji'a'tu-nian'da-ji-da'li\", 0.0021477799013210185, False),\n",
       " (\"大-ji'a'tu-nian'da-ji-da-li\", 0.0021477799013210185, False),\n",
       " (\"大-ji'a'tu-nian-da'ji'da'li\", 0.0021477799013210185, False),\n",
       " (\"大-ji'a'tu-nian-da'ji'da-li\", 0.0021477799013210185, False),\n",
       " (\"大-ji'a'tu-nian-da'ji-da'li\", 0.0021477799013210185, False),\n",
       " (\"大-ji'a'tu-nian-da'ji-da-li\", 0.0021477799013210185, False),\n",
       " (\"大-ji'a'tu-nian-da-ji'da'li\", 0.0021477799013210185, False),\n",
       " (\"大-ji'a'tu-nian-da-ji'da-li\", 0.0021477799013210185, False),\n",
       " (\"大-ji'a'tu-nian-da-ji-da'li\", 0.0021477799013210185, False),\n",
       " (\"大-ji'a'tu-nian-da-ji-da-li\", 0.0021477799013210185, False),\n",
       " (\"大-ji'a-tu'nian'da'ji-da'li\", 0.0021477799013210185, False),\n",
       " (\"大-ji'a-tu'nian'da'ji-da-li\", 0.0021477799013210185, False),\n",
       " (\"大-ji'a-tu'nian'da-ji'da'li\", 0.0021477799013210185, False),\n",
       " (\"大-ji'a-tu'nian'da-ji'da-li\", 0.0021477799013210185, False),\n",
       " (\"大-ji'a-tu'nian'da-ji-da'li\", 0.0021477799013210185, False),\n",
       " (\"大-ji'a-tu'nian'da-ji-da-li\", 0.0021477799013210185, False),\n",
       " (\"大-ji'a-tu'nian-da'ji'da'li\", 0.0021477799013210185, False),\n",
       " (\"大-ji'a-tu'nian-da'ji'da-li\", 0.0021477799013210185, False),\n",
       " (\"大-ji'a-tu'nian-da'ji-da'li\", 0.0021477799013210185, False),\n",
       " (\"大-ji'a-tu'nian-da'ji-da-li\", 0.0021477799013210185, False),\n",
       " (\"大-ji'a-tu'nian-da-ji'da'li\", 0.0021477799013210185, False),\n",
       " (\"大-ji'a-tu'nian-da-ji'da-li\", 0.0021477799013210185, False),\n",
       " (\"大-ji'a-tu'nian-da-ji-da'li\", 0.0021477799013210185, False),\n",
       " (\"大-ji'a-tu'nian-da-ji-da-li\", 0.0021477799013210185, False),\n",
       " (\"大-ji'a-tu-nian'da'ji'da-li\", 0.0021477799013210185, False),\n",
       " (\"大-ji'a-tu-nian'da'ji-da'li\", 0.0021477799013210185, False),\n",
       " (\"大-ji'a-tu-nian'da'ji-da-li\", 0.0021477799013210185, False),\n",
       " (\"大-ji'a-tu-nian'da-ji'da'li\", 0.0021477799013210185, False),\n",
       " (\"大-ji'a-tu-nian'da-ji'da-li\", 0.0021477799013210185, False),\n",
       " (\"大-ji'a-tu-nian'da-ji-da'li\", 0.0021477799013210185, False),\n",
       " (\"大-ji'a-tu-nian'da-ji-da-li\", 0.0021477799013210185, False),\n",
       " (\"大-ji'a-tu-nian-da'ji'da'li\", 0.0021477799013210185, False),\n",
       " (\"大-ji'a-tu-nian-da'ji'da-li\", 0.0021477799013210185, False),\n",
       " (\"大-ji'a-tu-nian-da'ji-da'li\", 0.0021477799013210185, False),\n",
       " (\"大-ji'a-tu-nian-da'ji-da-li\", 0.0021477799013210185, False),\n",
       " (\"大-ji'a-tu-nian-da-ji'da'li\", 0.0021477799013210185, False),\n",
       " (\"大-ji'a-tu-nian-da-ji'da-li\", 0.0021477799013210185, False),\n",
       " (\"大-ji'a-tu-nian-da-ji-da'li\", 0.0021477799013210185, False),\n",
       " (\"大-ji'a-tu-nian-da-ji-da-li\", 0.0021477799013210185, False),\n",
       " (\"大-ji'a'tu'ni-an'da'ji'da-li\", 0.0021477799013210185, False),\n",
       " (\"大-ji'a'tu'ni-an'da'ji-da'li\", 0.0021477799013210185, False),\n",
       " (\"大-ji'a'tu'ni-an'da'ji-da-li\", 0.0021477799013210185, False),\n",
       " (\"大-ji'a'tu'ni-an'da-ji'da'li\", 0.0021477799013210185, False),\n",
       " (\"大-ji'a'tu'ni-an'da-ji'da-li\", 0.0021477799013210185, False),\n",
       " (\"大-ji'a'tu'ni-an'da-ji-da'li\", 0.0021477799013210185, False),\n",
       " (\"大-ji'a'tu'ni-an'da-ji-da-li\", 0.0021477799013210185, False),\n",
       " (\"大-ji'a'tu'ni-an-da'ji'da'li\", 0.0021477799013210185, False),\n",
       " (\"大-ji'a'tu'ni-an-da'ji'da-li\", 0.0021477799013210185, False),\n",
       " (\"大-ji'a'tu'ni-an-da'ji-da'li\", 0.0021477799013210185, False),\n",
       " (\"大-ji'a'tu'ni-an-da'ji-da-li\", 0.0021477799013210185, False),\n",
       " (\"大-ji'a'tu'ni-an-da-ji'da'li\", 0.0021477799013210185, False),\n",
       " (\"大-ji'a'tu'ni-an-da-ji'da-li\", 0.0021477799013210185, False),\n",
       " (\"大-ji'a'tu'ni-an-da-ji-da'li\", 0.0021477799013210185, False),\n",
       " (\"大-ji'a'tu'ni-an-da-ji-da-li\", 0.0021477799013210185, False),\n",
       " (\"大-ji'a'tu-ni'an'da'ji-da'li\", 0.0021477799013210185, False),\n",
       " (\"大-ji'a'tu-ni'an'da'ji-da-li\", 0.0021477799013210185, False),\n",
       " (\"大-ji'a'tu-ni'an'da-ji'da'li\", 0.0021477799013210185, False),\n",
       " (\"大-ji'a'tu-ni'an'da-ji'da-li\", 0.0021477799013210185, False),\n",
       " (\"大-ji'a'tu-ni'an'da-ji-da'li\", 0.0021477799013210185, False),\n",
       " (\"大-ji'a'tu-ni'an'da-ji-da-li\", 0.0021477799013210185, False),\n",
       " (\"大-ji'a'tu-ni'an-da'ji'da'li\", 0.0021477799013210185, False),\n",
       " (\"大-ji'a'tu-ni'an-da'ji'da-li\", 0.0021477799013210185, False),\n",
       " (\"大-ji'a'tu-ni'an-da'ji-da'li\", 0.0021477799013210185, False),\n",
       " (\"大-ji'a'tu-ni'an-da'ji-da-li\", 0.0021477799013210185, False),\n",
       " (\"大-ji'a'tu-ni'an-da-ji'da'li\", 0.0021477799013210185, False),\n",
       " (\"大-ji'a'tu-ni'an-da-ji'da-li\", 0.0021477799013210185, False),\n",
       " (\"大-ji'a'tu-ni'an-da-ji-da'li\", 0.0021477799013210185, False),\n",
       " (\"大-ji'a'tu-ni'an-da-ji-da-li\", 0.0021477799013210185, False),\n",
       " (\"大-ji'a'tu-ni-an'da'ji'da-li\", 0.0021477799013210185, False),\n",
       " (\"大-ji'a'tu-ni-an'da'ji-da'li\", 0.0021477799013210185, False),\n",
       " (\"大-ji'a'tu-ni-an'da'ji-da-li\", 0.0021477799013210185, False),\n",
       " (\"大-ji'a'tu-ni-an'da-ji'da'li\", 0.0021477799013210185, False),\n",
       " (\"大-ji'a'tu-ni-an'da-ji'da-li\", 0.0021477799013210185, False),\n",
       " (\"大-ji'a'tu-ni-an'da-ji-da'li\", 0.0021477799013210185, False),\n",
       " (\"大-ji'a'tu-ni-an'da-ji-da-li\", 0.0021477799013210185, False),\n",
       " (\"大-ji'a'tu-ni-an-da'ji'da'li\", 0.0021477799013210185, False),\n",
       " (\"大-ji'a'tu-ni-an-da'ji'da-li\", 0.0021477799013210185, False),\n",
       " (\"大-ji'a'tu-ni-an-da'ji-da'li\", 0.0021477799013210185, False),\n",
       " (\"大-ji'a'tu-ni-an-da'ji-da-li\", 0.0021477799013210185, False),\n",
       " (\"大-ji'a'tu-ni-an-da-ji'da'li\", 0.0021477799013210185, False),\n",
       " (\"大-ji'a'tu-ni-an-da-ji'da-li\", 0.0021477799013210185, False),\n",
       " (\"大-ji'a'tu-ni-an-da-ji-da'li\", 0.0021477799013210185, False),\n",
       " (\"大-ji'a'tu-ni-an-da-ji-da-li\", 0.0021477799013210185, False),\n",
       " (\"大-ji'a-tu'ni'an'da-ji'da'li\", 0.0021477799013210185, False),\n",
       " (\"大-ji'a-tu'ni'an'da-ji'da-li\", 0.0021477799013210185, False),\n",
       " (\"大-ji'a-tu'ni'an'da-ji-da'li\", 0.0021477799013210185, False),\n",
       " (\"大-ji'a-tu'ni'an'da-ji-da-li\", 0.0021477799013210185, False),\n",
       " (\"大-ji'a-tu'ni'an-da'ji'da'li\", 0.0021477799013210185, False),\n",
       " (\"大-ji'a-tu'ni'an-da'ji'da-li\", 0.0021477799013210185, False),\n",
       " (\"大-ji'a-tu'ni'an-da'ji-da'li\", 0.0021477799013210185, False),\n",
       " (\"大-ji'a-tu'ni'an-da'ji-da-li\", 0.0021477799013210185, False),\n",
       " (\"大-ji'a-tu'ni'an-da-ji'da'li\", 0.0021477799013210185, False),\n",
       " (\"大-ji'a-tu'ni'an-da-ji'da-li\", 0.0021477799013210185, False),\n",
       " (\"大-ji'a-tu'ni'an-da-ji-da'li\", 0.0021477799013210185, False),\n",
       " (\"大-ji'a-tu'ni'an-da-ji-da-li\", 0.0021477799013210185, False),\n",
       " (\"大-ji'a-tu'ni-an'da'ji'da-li\", 0.0021477799013210185, False),\n",
       " (\"大-ji'a-tu'ni-an'da'ji-da'li\", 0.0021477799013210185, False),\n",
       " (\"大-ji'a-tu'ni-an'da'ji-da-li\", 0.0021477799013210185, False),\n",
       " (\"大-ji'a-tu'ni-an'da-ji'da'li\", 0.0021477799013210185, False),\n",
       " (\"大-ji'a-tu'ni-an'da-ji'da-li\", 0.0021477799013210185, False),\n",
       " (\"大-ji'a-tu'ni-an'da-ji-da'li\", 0.0021477799013210185, False),\n",
       " (\"大-ji'a-tu'ni-an'da-ji-da-li\", 0.0021477799013210185, False),\n",
       " (\"大-ji'a-tu'ni-an-da'ji'da'li\", 0.0021477799013210185, False),\n",
       " (\"大-ji'a-tu'ni-an-da'ji'da-li\", 0.0021477799013210185, False),\n",
       " (\"大-ji'a-tu'ni-an-da'ji-da'li\", 0.0021477799013210185, False),\n",
       " (\"大-ji'a-tu'ni-an-da'ji-da-li\", 0.0021477799013210185, False),\n",
       " (\"大-ji'a-tu'ni-an-da-ji'da'li\", 0.0021477799013210185, False),\n",
       " (\"大-ji'a-tu'ni-an-da-ji'da-li\", 0.0021477799013210185, False),\n",
       " (\"大-ji'a-tu'ni-an-da-ji-da'li\", 0.0021477799013210185, False),\n",
       " (\"大-ji'a-tu'ni-an-da-ji-da-li\", 0.0021477799013210185, False),\n",
       " (\"大-ji'a-tu-ni'an'da'ji-da'li\", 0.0021477799013210185, False),\n",
       " (\"大-ji'a-tu-ni'an'da'ji-da-li\", 0.0021477799013210185, False),\n",
       " (\"大-ji'a-tu-ni'an'da-ji'da'li\", 0.0021477799013210185, False),\n",
       " (\"大-ji'a-tu-ni'an'da-ji'da-li\", 0.0021477799013210185, False),\n",
       " (\"大-ji'a-tu-ni'an'da-ji-da'li\", 0.0021477799013210185, False),\n",
       " (\"大-ji'a-tu-ni'an'da-ji-da-li\", 0.0021477799013210185, False),\n",
       " (\"大-ji'a-tu-ni'an-da'ji'da'li\", 0.0021477799013210185, False),\n",
       " (\"大-ji'a-tu-ni'an-da'ji'da-li\", 0.0021477799013210185, False),\n",
       " (\"大-ji'a-tu-ni'an-da'ji-da'li\", 0.0021477799013210185, False),\n",
       " (\"大-ji'a-tu-ni'an-da'ji-da-li\", 0.0021477799013210185, False),\n",
       " (\"大-ji'a-tu-ni'an-da-ji'da'li\", 0.0021477799013210185, False),\n",
       " (\"大-ji'a-tu-ni'an-da-ji'da-li\", 0.0021477799013210185, False),\n",
       " (\"大-ji'a-tu-ni'an-da-ji-da'li\", 0.0021477799013210185, False),\n",
       " (\"大-ji'a-tu-ni'an-da-ji-da-li\", 0.0021477799013210185, False),\n",
       " (\"大-ji'a-tu-ni-an'da'ji'da-li\", 0.0021477799013210185, False),\n",
       " (\"大-ji'a-tu-ni-an'da'ji-da'li\", 0.0021477799013210185, False),\n",
       " (\"大-ji'a-tu-ni-an'da'ji-da-li\", 0.0021477799013210185, False),\n",
       " (\"大-ji'a-tu-ni-an'da-ji'da'li\", 0.0021477799013210185, False),\n",
       " (\"大-ji'a-tu-ni-an'da-ji'da-li\", 0.0021477799013210185, False),\n",
       " (\"大-ji'a-tu-ni-an'da-ji-da'li\", 0.0021477799013210185, False),\n",
       " (\"大-ji'a-tu-ni-an'da-ji-da-li\", 0.0021477799013210185, False),\n",
       " (\"大-ji'a-tu-ni-an-da'ji'da'li\", 0.0021477799013210185, False),\n",
       " (\"大-ji'a-tu-ni-an-da'ji'da-li\", 0.0021477799013210185, False),\n",
       " (\"大-ji'a-tu-ni-an-da'ji-da'li\", 0.0021477799013210185, False),\n",
       " (\"大-ji'a-tu-ni-an-da'ji-da-li\", 0.0021477799013210185, False),\n",
       " (\"大-ji'a-tu-ni-an-da-ji'da'li\", 0.0021477799013210185, False),\n",
       " (\"大-ji'a-tu-ni-an-da-ji'da-li\", 0.0021477799013210185, False),\n",
       " (\"大-ji'a-tu-ni-an-da-ji-da'li\", 0.0021477799013210185, False),\n",
       " (\"大-ji'a-tu-ni-an-da-ji-da-li\", 0.0021477799013210185, False),\n",
       " (\"大家-tu'nian'da'ji-da'li\", 0.0005994653063832289, False),\n",
       " (\"大家-tu'nian'da'ji-da-li\", 0.0005994653063832289, False),\n",
       " (\"大家-tu'nian'da-ji'da'li\", 0.0005994653063832289, False),\n",
       " (\"大家-tu'nian'da-ji'da-li\", 0.0005994653063832289, False),\n",
       " (\"大家-tu'nian'da-ji-da'li\", 0.0005994653063832289, False),\n",
       " (\"大家-tu'nian'da-ji-da-li\", 0.0005994653063832289, False),\n",
       " (\"大家-tu'ni'an'da-ji'da'li\", 0.0005994653063832289, False),\n",
       " (\"大家-tu'ni'an'da-ji'da-li\", 0.0005994653063832289, False),\n",
       " (\"大家-tu'ni'an'da-ji-da'li\", 0.0005994653063832289, False),\n",
       " (\"大家-tu'ni'an'da-ji-da-li\", 0.0005994653063832289, False),\n",
       " (\"大家-tu'ni'an-da'ji'da'li\", 0.0005994653063832289, False),\n",
       " (\"大家-tu'ni'an-da'ji'da-li\", 0.0005994653063832289, False),\n",
       " (\"大家-tu'ni'an-da'ji-da'li\", 0.0005994653063832289, False),\n",
       " (\"大家-tu'ni'an-da'ji-da-li\", 0.0005994653063832289, False),\n",
       " (\"大家-tu'ni'an-da-ji'da'li\", 0.0005994653063832289, False),\n",
       " (\"大家-tu'ni'an-da-ji'da-li\", 0.0005994653063832289, False),\n",
       " (\"大家-tu'ni'an-da-ji-da'li\", 0.0005994653063832289, False),\n",
       " (\"大家-tu'ni'an-da-ji-da-li\", 0.0005994653063832289, False),\n",
       " (\"打击-a'tu'nian'da-ji'da'li\", 7.061731858358011e-05, False),\n",
       " (\"打击-a'tu'nian'da-ji'da-li\", 7.061731858358011e-05, False),\n",
       " (\"打击-a'tu'nian'da-ji-da'li\", 7.061731858358011e-05, False),\n",
       " (\"打击-a'tu'nian'da-ji-da-li\", 7.061731858358011e-05, False),\n",
       " (\"打击-a'tu'nian-da'ji'da'li\", 7.061731858358011e-05, False),\n",
       " (\"打击-a'tu'nian-da'ji'da-li\", 7.061731858358011e-05, False),\n",
       " (\"打击-a'tu'nian-da'ji-da'li\", 7.061731858358011e-05, False),\n",
       " (\"打击-a'tu'nian-da'ji-da-li\", 7.061731858358011e-05, False),\n",
       " (\"打击-a'tu'nian-da-ji'da'li\", 7.061731858358011e-05, False),\n",
       " (\"打击-a'tu'nian-da-ji'da-li\", 7.061731858358011e-05, False),\n",
       " (\"打击-a'tu'nian-da-ji-da'li\", 7.061731858358011e-05, False),\n",
       " (\"打击-a'tu'nian-da-ji-da-li\", 7.061731858358011e-05, False),\n",
       " (\"打击-a'tu'ni'an-da'ji'da'li\", 7.061731858358011e-05, False),\n",
       " (\"打击-a'tu'ni'an-da'ji'da-li\", 7.061731858358011e-05, False),\n",
       " (\"打击-a'tu'ni'an-da'ji-da'li\", 7.061731858358011e-05, False),\n",
       " (\"打击-a'tu'ni'an-da'ji-da-li\", 7.061731858358011e-05, False),\n",
       " (\"打击-a'tu'ni'an-da-ji'da'li\", 7.061731858358011e-05, False),\n",
       " (\"打击-a'tu'ni'an-da-ji'da-li\", 7.061731858358011e-05, False),\n",
       " (\"打击-a'tu'ni'an-da-ji-da'li\", 7.061731858358011e-05, False),\n",
       " (\"打击-a'tu'ni'an-da-ji-da-li\", 7.061731858358011e-05, False),\n",
       " (\"打击-a'tu'ni-an'da'ji'da-li\", 7.061731858358011e-05, False),\n",
       " (\"打击-a'tu'ni-an'da'ji-da'li\", 7.061731858358011e-05, False),\n",
       " (\"打击-a'tu'ni-an'da'ji-da-li\", 7.061731858358011e-05, False),\n",
       " (\"打击-a'tu'ni-an'da-ji'da'li\", 7.061731858358011e-05, False),\n",
       " (\"打击-a'tu'ni-an'da-ji'da-li\", 7.061731858358011e-05, False),\n",
       " (\"打击-a'tu'ni-an'da-ji-da'li\", 7.061731858358011e-05, False),\n",
       " (\"打击-a'tu'ni-an'da-ji-da-li\", 7.061731858358011e-05, False),\n",
       " (\"打击-a'tu'ni-an-da'ji'da'li\", 7.061731858358011e-05, False),\n",
       " (\"打击-a'tu'ni-an-da'ji'da-li\", 7.061731858358011e-05, False),\n",
       " (\"打击-a'tu'ni-an-da'ji-da'li\", 7.061731858358011e-05, False),\n",
       " (\"打击-a'tu'ni-an-da'ji-da-li\", 7.061731858358011e-05, False),\n",
       " (\"打击-a'tu'ni-an-da-ji'da'li\", 7.061731858358011e-05, False),\n",
       " (\"打击-a'tu'ni-an-da-ji'da-li\", 7.061731858358011e-05, False),\n",
       " (\"打击-a'tu'ni-an-da-ji-da'li\", 7.061731858358011e-05, False),\n",
       " (\"打击-a'tu'ni-an-da-ji-da-li\", 7.061731858358011e-05, False),\n",
       " (\"妲-己-a'tu'nian'da-ji'da'li\", 8.00666353544309e-07, False),\n",
       " (\"妲-己-a'tu'nian'da-ji'da-li\", 8.00666353544309e-07, False),\n",
       " (\"妲-己-a'tu'nian'da-ji-da'li\", 8.00666353544309e-07, False),\n",
       " (\"妲-己-a'tu'nian'da-ji-da-li\", 8.00666353544309e-07, False),\n",
       " (\"妲-己-a'tu'nian-da'ji'da'li\", 8.00666353544309e-07, False),\n",
       " (\"妲-己-a'tu'nian-da'ji'da-li\", 8.00666353544309e-07, False),\n",
       " (\"妲-己-a'tu'nian-da'ji-da'li\", 8.00666353544309e-07, False),\n",
       " (\"妲-己-a'tu'nian-da'ji-da-li\", 8.00666353544309e-07, False),\n",
       " (\"妲-己-a'tu'nian-da-ji'da'li\", 8.00666353544309e-07, False),\n",
       " (\"妲-己-a'tu'nian-da-ji'da-li\", 8.00666353544309e-07, False),\n",
       " (\"妲-己-a'tu'nian-da-ji-da'li\", 8.00666353544309e-07, False),\n",
       " (\"妲-己-a'tu'nian-da-ji-da-li\", 8.00666353544309e-07, False),\n",
       " (\"妲-己-a'tu'ni'an-da'ji'da'li\", 8.00666353544309e-07, False),\n",
       " (\"妲-己-a'tu'ni'an-da'ji'da-li\", 8.00666353544309e-07, False),\n",
       " (\"妲-己-a'tu'ni'an-da'ji-da'li\", 8.00666353544309e-07, False),\n",
       " (\"妲-己-a'tu'ni'an-da'ji-da-li\", 8.00666353544309e-07, False),\n",
       " (\"妲-己-a'tu'ni'an-da-ji'da'li\", 8.00666353544309e-07, False),\n",
       " (\"妲-己-a'tu'ni'an-da-ji'da-li\", 8.00666353544309e-07, False),\n",
       " (\"妲-己-a'tu'ni'an-da-ji-da'li\", 8.00666353544309e-07, False),\n",
       " (\"妲-己-a'tu'ni'an-da-ji-da-li\", 8.00666353544309e-07, False),\n",
       " (\"妲-己-a'tu'ni-an'da'ji'da-li\", 8.00666353544309e-07, False),\n",
       " (\"妲-己-a'tu'ni-an'da'ji-da'li\", 8.00666353544309e-07, False),\n",
       " (\"妲-己-a'tu'ni-an'da'ji-da-li\", 8.00666353544309e-07, False),\n",
       " (\"妲-己-a'tu'ni-an'da-ji'da'li\", 8.00666353544309e-07, False),\n",
       " (\"妲-己-a'tu'ni-an'da-ji'da-li\", 8.00666353544309e-07, False),\n",
       " (\"妲-己-a'tu'ni-an'da-ji-da'li\", 8.00666353544309e-07, False),\n",
       " (\"妲-己-a'tu'ni-an'da-ji-da-li\", 8.00666353544309e-07, False),\n",
       " (\"妲-己-a'tu'ni-an-da'ji'da'li\", 8.00666353544309e-07, False),\n",
       " (\"妲-己-a'tu'ni-an-da'ji'da-li\", 8.00666353544309e-07, False),\n",
       " (\"妲-己-a'tu'ni-an-da'ji-da'li\", 8.00666353544309e-07, False),\n",
       " (\"妲-己-a'tu'ni-an-da'ji-da-li\", 8.00666353544309e-07, False),\n",
       " (\"妲-己-a'tu'ni-an-da-ji'da'li\", 8.00666353544309e-07, False),\n",
       " (\"妲-己-a'tu'ni-an-da-ji'da-li\", 8.00666353544309e-07, False),\n",
       " (\"妲-己-a'tu'ni-an-da-ji-da'li\", 8.00666353544309e-07, False),\n",
       " (\"妲-己-a'tu'ni-an-da-ji-da-li\", 8.00666353544309e-07, False),\n",
       " (\"大家-图-nian'da'ji'da-li\", 2.094921863670652e-07, False),\n",
       " (\"大家-图-nian'da'ji-da'li\", 2.094921863670652e-07, False),\n",
       " (\"大家-图-nian'da'ji-da-li\", 2.094921863670652e-07, False),\n",
       " (\"大家-图-nian'da-ji'da'li\", 2.094921863670652e-07, False),\n",
       " (\"大家-图-nian'da-ji'da-li\", 2.094921863670652e-07, False),\n",
       " (\"大家-图-nian'da-ji-da'li\", 2.094921863670652e-07, False),\n",
       " (\"大家-图-nian'da-ji-da-li\", 2.094921863670652e-07, False),\n",
       " (\"大家-图-ni'an'da'ji-da'li\", 2.094921863670652e-07, False),\n",
       " (\"大家-图-ni'an'da'ji-da-li\", 2.094921863670652e-07, False),\n",
       " (\"大家-图-ni'an'da-ji'da'li\", 2.094921863670652e-07, False),\n",
       " (\"大家-图-ni'an'da-ji'da-li\", 2.094921863670652e-07, False),\n",
       " (\"大家-图-ni'an'da-ji-da'li\", 2.094921863670652e-07, False),\n",
       " (\"大家-图-ni'an'da-ji-da-li\", 2.094921863670652e-07, False),\n",
       " (\"打击-啊-tu'nian'da'ji-da'li\", 1.041629247961467e-07, False),\n",
       " (\"打击-啊-tu'nian'da'ji-da-li\", 1.041629247961467e-07, False),\n",
       " (\"打击-啊-tu'nian'da-ji'da'li\", 1.041629247961467e-07, False),\n",
       " (\"打击-啊-tu'nian'da-ji'da-li\", 1.041629247961467e-07, False),\n",
       " (\"打击-啊-tu'nian'da-ji-da'li\", 1.041629247961467e-07, False),\n",
       " (\"打击-啊-tu'nian'da-ji-da-li\", 1.041629247961467e-07, False),\n",
       " (\"打击-啊-tu'ni'an'da-ji'da'li\", 1.041629247961467e-07, False),\n",
       " (\"打击-啊-tu'ni'an'da-ji'da-li\", 1.041629247961467e-07, False),\n",
       " (\"打击-啊-tu'ni'an'da-ji-da'li\", 1.041629247961467e-07, False),\n",
       " (\"打击-啊-tu'ni'an'da-ji-da-li\", 1.041629247961467e-07, False),\n",
       " (\"打击-啊-tu'ni'an-da'ji'da'li\", 1.041629247961467e-07, False),\n",
       " (\"打击-啊-tu'ni'an-da'ji'da-li\", 1.041629247961467e-07, False),\n",
       " (\"打击-啊-tu'ni'an-da'ji-da'li\", 1.041629247961467e-07, False),\n",
       " (\"打击-啊-tu'ni'an-da'ji-da-li\", 1.041629247961467e-07, False),\n",
       " (\"打击-啊-tu'ni'an-da-ji'da'li\", 1.041629247961467e-07, False),\n",
       " (\"打击-啊-tu'ni'an-da-ji'da-li\", 1.041629247961467e-07, False),\n",
       " (\"打击-啊-tu'ni'an-da-ji-da'li\", 1.041629247961467e-07, False),\n",
       " (\"打击-啊-tu'ni'an-da-ji-da-li\", 1.041629247961467e-07, False),\n",
       " (\"大-甲-tu'nian'da'ji-da'li\", 6.496399043147967e-08, False),\n",
       " (\"大-甲-tu'nian'da'ji-da-li\", 6.496399043147967e-08, False),\n",
       " (\"大-甲-tu'nian'da-ji'da'li\", 6.496399043147967e-08, False),\n",
       " (\"大-甲-tu'nian'da-ji'da-li\", 6.496399043147967e-08, False),\n",
       " (\"大-甲-tu'nian'da-ji-da'li\", 6.496399043147967e-08, False),\n",
       " (\"大-甲-tu'nian'da-ji-da-li\", 6.496399043147967e-08, False),\n",
       " (\"大-甲-tu'ni'an'da-ji'da'li\", 6.496399043147967e-08, False),\n",
       " (\"大-甲-tu'ni'an'da-ji'da-li\", 6.496399043147967e-08, False),\n",
       " (\"大-甲-tu'ni'an'da-ji-da'li\", 6.496399043147967e-08, False),\n",
       " (\"大-甲-tu'ni'an'da-ji-da-li\", 6.496399043147967e-08, False),\n",
       " (\"大-甲-tu'ni'an-da'ji'da'li\", 6.496399043147967e-08, False),\n",
       " (\"大-甲-tu'ni'an-da'ji'da-li\", 6.496399043147967e-08, False),\n",
       " (\"大-甲-tu'ni'an-da'ji-da'li\", 6.496399043147967e-08, False),\n",
       " (\"大-甲-tu'ni'an-da'ji-da-li\", 6.496399043147967e-08, False),\n",
       " (\"大-甲-tu'ni'an-da-ji'da'li\", 6.496399043147967e-08, False),\n",
       " (\"大-甲-tu'ni'an-da-ji'da-li\", 6.496399043147967e-08, False),\n",
       " (\"大-甲-tu'ni'an-da-ji-da'li\", 6.496399043147967e-08, False),\n",
       " (\"大-甲-tu'ni'an-da-ji-da-li\", 6.496399043147967e-08, False),\n",
       " (\"大-家兔-nian'da'ji'da-li\", 4.6694360487988745e-09, False),\n",
       " (\"大-家兔-nian'da'ji-da'li\", 4.6694360487988745e-09, False),\n",
       " (\"大-家兔-nian'da'ji-da-li\", 4.6694360487988745e-09, False),\n",
       " (\"大-家兔-nian'da-ji'da'li\", 4.6694360487988745e-09, False),\n",
       " (\"大-家兔-nian'da-ji'da-li\", 4.6694360487988745e-09, False),\n",
       " (\"大-家兔-nian'da-ji-da'li\", 4.6694360487988745e-09, False),\n",
       " (\"大-家兔-nian'da-ji-da-li\", 4.6694360487988745e-09, False),\n",
       " (\"大-家兔-ni'an'da'ji-da'li\", 4.6694360487988745e-09, False),\n",
       " (\"大-家兔-ni'an'da'ji-da-li\", 4.6694360487988745e-09, False),\n",
       " (\"大-家兔-ni'an'da-ji'da'li\", 4.6694360487988745e-09, False),\n",
       " (\"大-家兔-ni'an'da-ji'da-li\", 4.6694360487988745e-09, False),\n",
       " (\"大-家兔-ni'an'da-ji-da'li\", 4.6694360487988745e-09, False),\n",
       " (\"大-家兔-ni'an'da-ji-da-li\", 4.6694360487988745e-09, False),\n",
       " (\"妲-己-啊-tu'nian'da'ji-da'li\", 1.1810098548606307e-09, False),\n",
       " (\"妲-己-啊-tu'nian'da'ji-da-li\", 1.1810098548606307e-09, False),\n",
       " (\"妲-己-啊-tu'nian'da-ji'da'li\", 1.1810098548606307e-09, False),\n",
       " (\"妲-己-啊-tu'nian'da-ji'da-li\", 1.1810098548606307e-09, False),\n",
       " (\"妲-己-啊-tu'nian'da-ji-da'li\", 1.1810098548606307e-09, False),\n",
       " (\"妲-己-啊-tu'nian'da-ji-da-li\", 1.1810098548606307e-09, False),\n",
       " (\"妲-己-啊-tu'ni'an'da-ji'da'li\", 1.1810098548606307e-09, False),\n",
       " (\"妲-己-啊-tu'ni'an'da-ji'da-li\", 1.1810098548606307e-09, False),\n",
       " (\"妲-己-啊-tu'ni'an'da-ji-da'li\", 1.1810098548606307e-09, False),\n",
       " (\"妲-己-啊-tu'ni'an'da-ji-da-li\", 1.1810098548606307e-09, False),\n",
       " (\"妲-己-啊-tu'ni'an-da'ji'da'li\", 1.1810098548606307e-09, False),\n",
       " (\"妲-己-啊-tu'ni'an-da'ji'da-li\", 1.1810098548606307e-09, False),\n",
       " (\"妲-己-啊-tu'ni'an-da'ji-da'li\", 1.1810098548606307e-09, False),\n",
       " (\"妲-己-啊-tu'ni'an-da'ji-da-li\", 1.1810098548606307e-09, False),\n",
       " (\"妲-己-啊-tu'ni'an-da-ji'da'li\", 1.1810098548606307e-09, False),\n",
       " (\"妲-己-啊-tu'ni'an-da-ji'da-li\", 1.1810098548606307e-09, False),\n",
       " (\"妲-己-啊-tu'ni'an-da-ji-da'li\", 1.1810098548606307e-09, False),\n",
       " (\"妲-己-啊-tu'ni'an-da-ji-da-li\", 1.1810098548606307e-09, False),\n",
       " (\"大家-图-你-an'da'ji'da-li\", 9.981494954725952e-10, False),\n",
       " (\"大家-图-你-an'da'ji-da'li\", 9.981494954725952e-10, False),\n",
       " (\"大家-图-你-an'da'ji-da-li\", 9.981494954725952e-10, False),\n",
       " (\"大家-兔年-da'ji'da-li\", 7.227011690656282e-10, False),\n",
       " (\"大家-图-年-da'ji'da-li\", 6.807791579672605e-10, False),\n",
       " (\"打击-啊-图-nian'da'ji'da-li\", 3.640130399803809e-11, False),\n",
       " (\"打击-啊-图-nian'da'ji-da'li\", 3.640130399803809e-11, False),\n",
       " (\"打击-啊-图-nian'da'ji-da-li\", 3.640130399803809e-11, False),\n",
       " (\"打击-啊-图-nian'da-ji'da'li\", 3.640130399803809e-11, False),\n",
       " (\"打击-啊-图-nian'da-ji'da-li\", 3.640130399803809e-11, False),\n",
       " (\"打击-啊-图-nian'da-ji-da'li\", 3.640130399803809e-11, False),\n",
       " (\"打击-啊-图-nian'da-ji-da-li\", 3.640130399803809e-11, False),\n",
       " (\"打击-啊-图-ni'an'da'ji-da'li\", 3.640130399803809e-11, False),\n",
       " (\"打击-啊-图-ni'an'da'ji-da-li\", 3.640130399803809e-11, False),\n",
       " (\"打击-啊-图-ni'an'da-ji'da'li\", 3.640130399803809e-11, False),\n",
       " (\"打击-啊-图-ni'an'da-ji'da-li\", 3.640130399803809e-11, False),\n",
       " (\"打击-啊-图-ni'an'da-ji-da'li\", 3.640130399803809e-11, False),\n",
       " (\"打击-啊-图-ni'an'da-ji-da-li\", 3.640130399803809e-11, False),\n",
       " (\"大-甲-图-nian'da'ji'da-li\", 2.2702645583828782e-11, False),\n",
       " (\"大-甲-图-nian'da'ji-da'li\", 2.2702645583828782e-11, False),\n",
       " (\"大-甲-图-nian'da'ji-da-li\", 2.2702645583828782e-11, False),\n",
       " (\"大-甲-图-nian'da-ji'da'li\", 2.2702645583828782e-11, False),\n",
       " (\"大-甲-图-nian'da-ji'da-li\", 2.2702645583828782e-11, False),\n",
       " (\"大-甲-图-nian'da-ji-da'li\", 2.2702645583828782e-11, False),\n",
       " (\"大-甲-图-nian'da-ji-da-li\", 2.2702645583828782e-11, False),\n",
       " (\"大-甲-图-ni'an'da'ji-da'li\", 2.2702645583828782e-11, False),\n",
       " (\"大-甲-图-ni'an'da'ji-da-li\", 2.2702645583828782e-11, False),\n",
       " (\"大-甲-图-ni'an'da-ji'da'li\", 2.2702645583828782e-11, False),\n",
       " (\"大-甲-图-ni'an'da-ji'da-li\", 2.2702645583828782e-11, False),\n",
       " (\"大-甲-图-ni'an'da-ji-da'li\", 2.2702645583828782e-11, False),\n",
       " (\"大-甲-图-ni'an'da-ji-da-li\", 2.2702645583828782e-11, False),\n",
       " (\"大-家兔-你-an'da'ji'da-li\", 2.2248062407843967e-11, False),\n",
       " (\"大-家兔-你-an'da'ji-da'li\", 2.2248062407843967e-11, False),\n",
       " (\"大-家兔-你-an'da'ji-da-li\", 2.2248062407843967e-11, False),\n",
       " (\"大-家兔-年-da'ji'da-li\", 1.5174096927478656e-11, False),\n",
       " (\"打击-阿图-nian'da'ji'da-li\", 2.178745257855786e-12, False),\n",
       " (\"打击-阿图-nian'da'ji-da'li\", 2.178745257855786e-12, False),\n",
       " (\"打击-阿图-nian'da'ji-da-li\", 2.178745257855786e-12, False),\n",
       " (\"打击-阿图-nian'da-ji'da'li\", 2.178745257855786e-12, False),\n",
       " (\"打击-阿图-nian'da-ji'da-li\", 2.178745257855786e-12, False),\n",
       " (\"打击-阿图-nian'da-ji-da'li\", 2.178745257855786e-12, False),\n",
       " (\"打击-阿图-nian'da-ji-da-li\", 2.178745257855786e-12, False),\n",
       " (\"打击-阿图-ni'an'da'ji-da'li\", 2.178745257855786e-12, False),\n",
       " (\"打击-阿图-ni'an'da'ji-da-li\", 2.178745257855786e-12, False),\n",
       " (\"打击-阿图-ni'an'da-ji'da'li\", 2.178745257855786e-12, False),\n",
       " (\"打击-阿图-ni'an'da-ji'da-li\", 2.178745257855786e-12, False),\n",
       " (\"打击-阿图-ni'an'da-ji-da'li\", 2.178745257855786e-12, False),\n",
       " (\"打击-阿图-ni'an'da-ji-da-li\", 2.178745257855786e-12, False),\n",
       " (\"大家-图尼-an'da'ji'da-li\", 1.7107263046216301e-12, False),\n",
       " (\"大家-图尼-an'da'ji-da'li\", 1.7107263046216301e-12, False),\n",
       " (\"大家-图尼-an'da'ji-da-li\", 1.7107263046216301e-12, False),\n",
       " (\"大家-兔年-大-ji'da'li\", 1.5522030455803596e-12, False),\n",
       " (\"大家-图-年-大-ji'da'li\", 1.4621637927203288e-12, False),\n",
       " (\"妲-己-啊-图-nian'da'ji'da-li\", 4.1272169378495606e-13, False),\n",
       " (\"妲-己-啊-图-nian'da'ji-da'li\", 4.1272169378495606e-13, False),\n",
       " (\"妲-己-啊-图-nian'da'ji-da-li\", 4.1272169378495606e-13, False),\n",
       " (\"妲-己-啊-图-nian'da-ji'da'li\", 4.1272169378495606e-13, False),\n",
       " (\"妲-己-啊-图-nian'da-ji'da-li\", 4.1272169378495606e-13, False),\n",
       " (\"妲-己-啊-图-nian'da-ji-da'li\", 4.1272169378495606e-13, False),\n",
       " (\"妲-己-啊-图-nian'da-ji-da-li\", 4.1272169378495606e-13, False),\n",
       " (\"妲-己-啊-图-ni'an'da'ji-da'li\", 4.1272169378495606e-13, False),\n",
       " (\"妲-己-啊-图-ni'an'da'ji-da-li\", 4.1272169378495606e-13, False),\n",
       " (\"妲-己-啊-图-ni'an'da-ji'da'li\", 4.1272169378495606e-13, False),\n",
       " (\"妲-己-啊-图-ni'an'da-ji'da-li\", 4.1272169378495606e-13, False),\n",
       " (\"妲-己-啊-图-ni'an'da-ji-da'li\", 4.1272169378495606e-13, False),\n",
       " (\"妲-己-啊-图-ni'an'da-ji-da-li\", 4.1272169378495606e-13, False),\n",
       " (\"大家-图-你-按-da'ji'da-li\", 2.3440630566854635e-13, False),\n",
       " (\"打击-啊-图-你-an'da'ji'da-li\", 1.7343817853198195e-13, False),\n",
       " (\"打击-啊-图-你-an'da'ji-da'li\", 1.7343817853198195e-13, False),\n",
       " (\"打击-啊-图-你-an'da'ji-da-li\", 1.7343817853198195e-13, False),\n",
       " (\"打击-啊-兔年-da'ji'da-li\", 1.2557635399728343e-13, False),\n",
       " (\"打击-啊-图-年-da'ji'da-li\", 1.1829199701641268e-13, False),\n",
       " (\"大-甲-图-你-an'da'ji'da-li\", 1.0816935289264984e-13, False),\n",
       " (\"大-甲-图-你-an'da'ji-da'li\", 1.0816935289264984e-13, False),\n",
       " (\"大-甲-图-你-an'da'ji-da-li\", 1.0816935289264984e-13, False),\n",
       " (\"大-甲-兔年-da'ji'da-li\", 7.831904754465394e-14, False),\n",
       " (\"大-甲-图-年-da'ji'da-li\", 7.377596373502693e-14, False),\n",
       " (\"大-家兔-年-大-ji'da'li\", 3.259062040153568e-14, False),\n",
       " (\"妲-己-阿图-nian'da'ji'da-li\", 2.4702835733484863e-14, False),\n",
       " (\"妲-己-阿图-nian'da'ji-da'li\", 2.4702835733484863e-14, False),\n",
       " (\"妲-己-阿图-nian'da'ji-da-li\", 2.4702835733484863e-14, False),\n",
       " (\"妲-己-阿图-nian'da-ji'da'li\", 2.4702835733484863e-14, False),\n",
       " (\"妲-己-阿图-nian'da-ji'da-li\", 2.4702835733484863e-14, False),\n",
       " (\"妲-己-阿图-nian'da-ji-da'li\", 2.4702835733484863e-14, False),\n",
       " (\"妲-己-阿图-nian'da-ji-da-li\", 2.4702835733484863e-14, False),\n",
       " (\"妲-己-阿图-ni'an'da'ji-da'li\", 2.4702835733484863e-14, False),\n",
       " (\"妲-己-阿图-ni'an'da'ji-da-li\", 2.4702835733484863e-14, False),\n",
       " (\"妲-己-阿图-ni'an'da-ji'da'li\", 2.4702835733484863e-14, False),\n",
       " (\"妲-己-阿图-ni'an'da-ji'da-li\", 2.4702835733484863e-14, False),\n",
       " (\"妲-己-阿图-ni'an'da-ji-da'li\", 2.4702835733484863e-14, False),\n",
       " (\"妲-己-阿图-ni'an'da-ji-da-li\", 2.4702835733484863e-14, False),\n",
       " (\"大家-图-尼庵-da'ji'da-li\", 1.6254455284431492e-14, False),\n",
       " (\"打击-阿图-你-an'da'ji'da-li\", 1.038088110876652e-14, False),\n",
       " (\"打击-阿图-你-an'da'ji-da'li\", 1.038088110876652e-14, False),\n",
       " (\"打击-阿图-你-an'da'ji-da-li\", 1.038088110876652e-14, False),\n",
       " (\"打击-阿图-年-da'ji'da-li\", 7.0801894227660245e-15, False),\n",
       " (\"大-家兔-你-按-da'ji'da-li\", 5.224754549253941e-15, False),\n",
       " (\"妲-己-啊-图-你-an'da'ji'da-li\", 1.966459740413563e-15, False),\n",
       " (\"妲-己-啊-图-你-an'da'ji-da'li\", 1.966459740413563e-15, False),\n",
       " (\"妲-己-啊-图-你-an'da'ji-da-li\", 1.966459740413563e-15, False),\n",
       " (\"妲-己-啊-兔年-da'ji'da-li\", 1.423797497031739e-15, False),\n",
       " (\"妲-己-啊-图-年-da'ji'da-li\", 1.341206715354212e-15, False),\n",
       " (\"大家-图-你-安达-ji'da'li\", 1.113484126652869e-15, False),\n",
       " (\"大家-图-你-按-大-ji'da'li\", 5.03453152057815e-16, False),\n",
       " (\"大家-图尼-按-da'ji'da-li\", 4.017484704397873e-16, False),\n",
       " (\"大-家兔-尼庵-da'ji'da-li\", 3.6230057442679916e-16, False),\n",
       " (\"打击-啊-图尼-an'da'ji'da-li\", 2.9725532656793316e-16, False),\n",
       " (\"打击-啊-图尼-an'da'ji-da'li\", 2.9725532656793316e-16, False),\n",
       " (\"打击-啊-图尼-an'da'ji-da-li\", 2.9725532656793316e-16, False),\n",
       " (\"打击-啊-兔年-大-ji'da'li\", 2.697103691965387e-16, False),\n",
       " (\"打击-啊-图-年-大-ji'da'li\", 2.5406517367897706e-16, False),\n",
       " (\"大-甲-图尼-an'da'ji'da-li\", 1.8539122464790795e-16, False),\n",
       " (\"大-甲-图尼-an'da'ji-da'li\", 1.8539122464790795e-16, False),\n",
       " (\"大-甲-图尼-an'da'ji-da-li\", 1.8539122464790795e-16, False),\n",
       " (\"大-甲-兔年-大-ji'da'li\", 1.68212076207013e-16, False),\n",
       " (\"大-甲-图-年-大-ji'da'li\", 1.5845453211067919e-16, False),\n",
       " (\"妲-己-阿图-你-an'da'ji'da-li\", 1.1769948775519928e-16, False),\n",
       " (\"妲-己-阿图-你-an'da'ji-da'li\", 1.1769948775519928e-16, False),\n",
       " (\"妲-己-阿图-你-an'da'ji-da-li\", 1.1769948775519928e-16, False),\n",
       " (\"妲-己-阿图-年-da'ji'da-li\", 8.027590910039426e-17, False),\n",
       " (\"打击-啊-图-你-按-da'ji'da-li\", 4.073037443385641e-17, False),\n",
       " (\"大家-图-尼庵-大-ji'da'li\", 3.491099236682318e-17, False),\n",
       " (\"大-甲-图-你-按-da'ji'da-li\", 2.540258599852139e-17, False),\n",
       " (\"大-家兔-你-安达-ji'da'li\", 2.4818791626185638e-17, False),\n",
       " (\"打击-阿图-年-大-ji'da'li\", 1.5206688539762532e-17, False),\n",
       " (\"大-家兔-你-按-大-ji'da'li\", 1.1221622810223171e-17, False),\n",
       " (\"妲-己-啊-图尼-an'da'ji'da-li\", 3.3703111810041163e-18, False),\n",
       " (\"妲-己-啊-图尼-an'da'ji-da'li\", 3.3703111810041163e-18, False),\n",
       " (\"妲-己-啊-图尼-an'da'ji-da-li\", 3.3703111810041163e-18, False),\n",
       " (\"妲-己-啊-兔年-大-ji'da'li\", 3.0580036476759413e-18, False),\n",
       " (\"妲-己-啊-图-年-大-ji'da'li\", 2.8806168267545566e-18, False),\n",
       " (\"打击-啊-图-尼庵-da'ji'da-li\", 2.8243696263419566e-18, False),\n",
       " (\"打击-阿图-你-按-da'ji'da-li\", 2.4378552524722202e-18, False),\n",
       " (\"大家-图尼-安达-ji'da'li\", 1.9083980845392365e-18, False),\n",
       " (\"大-甲-图-尼庵-da'ji'da-li\", 1.7614935615501098e-18, False),\n",
       " (\"大家-图尼-按-大-ji'da'li\", 8.628672901970365e-19, False),\n",
       " (\"大-家兔-尼庵-大-ji'da'li\", 7.781418919909391e-19, False),\n",
       " (\"妲-己-啊-图-你-按-da'ji'da-li\", 4.618051354902755e-19, False),\n",
       " (\"打击-啊-图-你-安达-ji'da'li\", 1.934786919463514e-19, False),\n",
       " (\"妲-己-阿图-年-大-ji'da'li\", 1.7241498412609984e-19, False),\n",
       " (\"打击-阿图-尼庵-da'ji'da-li\", 1.6904839261132277e-19, False),\n",
       " (\"大-甲-图-你-安达-ji'da'li\", 1.2066815440231328e-19, False),\n",
       " (\"打击-啊-图-你-按-大-ji'da'li\", 8.747987958231626e-20, False),\n",
       " (\"打击-啊-图尼-按-da'ji'da-li\", 6.980770241044476e-20, False),\n",
       " (\"大-甲-图-你-按-大-ji'da'li\", 5.455916364920295e-20, False),\n",
       " (\"大-甲-图尼-按-da'ji'da-li\", 4.353743829976898e-20, False),\n",
       " (\"妲-己-啊-图-尼庵-da'ji'da-li\", 3.20229906082887e-20, False),\n",
       " (\"妲-己-阿图-你-按-da'ji'da-li\", 2.764065125406263e-20, False),\n",
       " (\"打击-阿图-你-安达-ji'da'li\", 1.158037587326468e-20, False),\n",
       " (\"打击-啊-图-尼庵-大-ji'da'li\", 6.066124317358809e-21, False),\n",
       " (\"打击-阿图-你-按-大-ji'da'li\", 5.235976513589712e-21, False),\n",
       " (\"大-甲-图-尼庵-大-ji'da'li\", 3.783300467803704e-21, False),\n",
       " (\"妲-己-啊-图-你-安达-ji'da'li\", 2.193681123503149e-21, False),\n",
       " (\"妲-己-阿图-尼庵-da'ji'da-li\", 1.9166879003546068e-21, False),\n",
       " (\"妲-己-啊-图-你-按-大-ji'da'li\", 9.918557883328435e-22, False),\n",
       " (\"妲-己-啊-图尼-按-da'ji'da-li\", 7.914868428786986e-22, False),\n",
       " (\"打击-阿图-尼庵-大-ji'da'li\", 3.630787400012236e-22, False),\n",
       " (\"打击-啊-图尼-安达-ji'da'li\", 3.316027200311258e-22, False),\n",
       " (\"大-甲-图尼-安达-ji'da'li\", 2.0681289406297085e-22, False),\n",
       " (\"打击-啊-图尼-按-大-ji'da'li\", 1.4993158019455208e-22, False),\n",
       " (\"妲-己-阿图-你-安达-ji'da'li\", 1.31299481615764e-22, False),\n",
       " (\"大-甲-图尼-按-大-ji'da'li\", 9.350883493524776e-23, False),\n",
       " (\"妲-己-啊-图-尼庵-大-ji'da'li\", 6.877833560867421e-23, False),\n",
       " (\"妲-己-阿图-你-按-大-ji'da'li\", 5.936603522289932e-23, False),\n",
       " (\"妲-己-阿图-尼庵-大-ji'da'li\", 4.1166237494868074e-24, False),\n",
       " (\"妲-己-啊-图尼-安达-ji'da'li\", 3.7597454278649215e-24, False),\n",
       " (\"妲-己-啊-图尼-按-大-ji'da'li\", 1.6999395332948958e-24, False)]"
      ]
     },
     "execution_count": 51,
     "metadata": {},
     "output_type": "execute_result"
    }
   ],
   "source": [
    "get_all_hangzi_by_pinyin('dajiatuniandajidali', init_words_probability, transmission_probability,\n",
    "                              reverse_emit_pinyin_probability)"
   ]
  },
  {
   "cell_type": "code",
   "execution_count": null,
   "id": "1da57e6f-148c-4c61-9c2e-daeafb342641",
   "metadata": {},
   "outputs": [],
   "source": []
  }
 ],
 "metadata": {
  "kernelspec": {
   "display_name": "Python 3 (ipykernel)",
   "language": "python",
   "name": "python3"
  },
  "language_info": {
   "codemirror_mode": {
    "name": "ipython",
    "version": 3
   },
   "file_extension": ".py",
   "mimetype": "text/x-python",
   "name": "python",
   "nbconvert_exporter": "python",
   "pygments_lexer": "ipython3",
   "version": "3.9.13"
  }
 },
 "nbformat": 4,
 "nbformat_minor": 5
}
